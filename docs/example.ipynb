{
 "cells": [
  {
   "cell_type": "markdown",
   "metadata": {},
   "source": [
    "Install\n",
    "==============\n",
    "\n",
    "```\n",
    "pip install uxdiff\n",
    "```"
   ]
  },
  {
   "cell_type": "code",
   "execution_count": 1,
   "metadata": {},
   "outputs": [],
   "source": [
    "import sys, os\n",
    "if os.path.isfile('../uxdiff'):\n",
    "    sys.path.append('../')\n",
    "    os.environ['PATH'] += ':../'\n",
    "else:\n",
    "    ! {sys.executable} -m pip install -q uxdiff pandas"
   ]
  },
  {
   "cell_type": "markdown",
   "metadata": {},
   "source": [
    "\n",
    "Example\n",
    "=============="
   ]
  },
  {
   "cell_type": "code",
   "execution_count": 2,
   "metadata": {},
   "outputs": [
    {
     "name": "stdout",
     "output_type": "stream",
     "text": [
      "--- text1.txt (utf-8)\n",
      "+++ text2.txt (utf-8)\n",
      "     1      1|     1. Beautiful is better than ugly.\n",
      "\u001b[31;1m     2\u001b[0m       | \u001b[31;1m-\u001b[0m \u001b[31;1m  2. Explicit is better than implicit.\u001b[0m\n",
      "\u001b[31;1m     3\u001b[0m       | \u001b[31;1m-\u001b[0m   3. Simple is better than complex.\n",
      "\u001b[31;1m     4\u001b[0m       | \u001b[31;1m-\u001b[0m   4. Comple\u001b[31;1mx\u001b[0m is better than compl\u001b[31;1micat\u001b[0me\u001b[31;1md\u001b[0m.\n",
      "       \u001b[32;1m     2\u001b[0m| \u001b[32;1m+\u001b[0m   3.\u001b[32;1m  \u001b[0m Simple is better than complex.\n",
      "       \u001b[32;1m     3\u001b[0m| \u001b[32;1m+\u001b[0m   4. Compl\u001b[32;1micat\u001b[0me\u001b[32;1md\u001b[0m is better than comple\u001b[32;1mx\u001b[0m.\n",
      "       \u001b[32;1m     4\u001b[0m| \u001b[32;1m+\u001b[0m \u001b[32;1m  5. Flat is better than nested.\u001b[0m\n",
      "\n"
     ]
    }
   ],
   "source": [
    "! uxdiff text1.txt text2.txt"
   ]
  },
  {
   "cell_type": "code",
   "execution_count": 3,
   "metadata": {},
   "outputs": [
    {
     "name": "stdout",
     "output_type": "stream",
     "text": [
      "--- text1.txt\n",
      "+++ text2.txt\n",
      "     1      1|     1. Beautiful is better than ugly.\n",
      "\u001b[31;1m     2\u001b[0m       | \u001b[31;1m-\u001b[0m \u001b[31;1m  2. Explicit is better than implicit.\u001b[0m\n",
      "\u001b[31;1m     3\u001b[0m       | \u001b[31;1m-\u001b[0m   3. Simple is better than complex.\n",
      "\u001b[31;1m     4\u001b[0m       | \u001b[31;1m-\u001b[0m   4. Comple\u001b[31;1mx\u001b[0m is better than compl\u001b[31;1micat\u001b[0me\u001b[31;1md\u001b[0m.\n",
      "       \u001b[32;1m     2\u001b[0m| \u001b[32;1m+\u001b[0m   3.\u001b[32;1m  \u001b[0m Simple is better than complex.\n",
      "       \u001b[32;1m     3\u001b[0m| \u001b[32;1m+\u001b[0m   4. Compl\u001b[32;1micat\u001b[0me\u001b[32;1md\u001b[0m is better than comple\u001b[32;1mx\u001b[0m.\n",
      "       \u001b[32;1m     4\u001b[0m| \u001b[32;1m+\u001b[0m \u001b[32;1m  5. Flat is better than nested.\u001b[0m\n",
      "\n"
     ]
    }
   ],
   "source": [
    "! diff -u text1.txt text2.txt | uxdiff"
   ]
  },
  {
   "cell_type": "code",
   "execution_count": 4,
   "metadata": {},
   "outputs": [
    {
     "name": "stdout",
     "output_type": "stream",
     "text": [
      "--- text1.txt (utf-8)\n",
      "+++ text2.txt (utf-8)\n",
      "     1|  1. Beautiful is better than ugly.              1|  1. Beautiful is better than ugly.\n",
      "     2|\u001b[31;1m  2. Explicit is better than implicit.\u001b[0m    <       |\n",
      "     3|  3. Simple is better than complex.       |      2|  3.\u001b[32;1m  \u001b[0m Simple is better than complex.\n",
      "     4|  4. Comple\u001b[31;1mx\u001b[0m is better than compl\u001b[31;1micat\u001b[0me\u001b[31;1md\u001b[0m.  |      3|  4. Compl\u001b[32;1micat\u001b[0me\u001b[32;1md\u001b[0m is better than comple\u001b[32;1mx\u001b[0m.\n",
      "      |                                          >      4|\u001b[32;1m  5. Flat is better than nested.\u001b[0m\n",
      "\n"
     ]
    }
   ],
   "source": [
    "! uxdiff -s -w 100 text1.txt text2.txt"
   ]
  },
  {
   "cell_type": "code",
   "execution_count": 5,
   "metadata": {},
   "outputs": [
    {
     "name": "stdout",
     "output_type": "stream",
     "text": [
      "diff --git a/uxdiff.py b/uxdiff.py\n",
      "\n",
      "index 2fc56c3..74b5805 100644\n",
      "\n",
      "--- a/uxdiff.py\n",
      "+++ b/uxdiff.py\n",
      "   986    986|           lines = []\n",
      "   987    987|           line = ''\n",
      "   988    988|   \n",
      "\u001b[31;47;1m   989\u001b[0m       | \u001b[31;47;1m-\u001b[0m         if num1  \u001b[31;47;1m==\u001b[0m None: num1  = ''\n",
      "\u001b[31;47;1m   990\u001b[0m       | \u001b[31;47;1m-\u001b[0m         if num2  \u001b[31;47;1m==\u001b[0m None: num2  = ''\n",
      "\u001b[31;47;1m   991\u001b[0m       | \u001b[31;47;1m-\u001b[0m         if text1 \u001b[31;47;1m==\u001b[0m None: text1 = ''\n",
      "\u001b[31;47;1m   992\u001b[0m       | \u001b[31;47;1m-\u001b[0m         if text2 \u001b[31;47;1m==\u001b[0m None: text2 = ''\n",
      "       \u001b[32;47;1m   989\u001b[0m| \u001b[32;47;1m+\u001b[0m         if num1  \u001b[32;47;1mis\u001b[0m None: num1  = ''\n",
      "       \u001b[32;47;1m   990\u001b[0m| \u001b[32;47;1m+\u001b[0m         if num2  \u001b[32;47;1mis\u001b[0m None: num2  = ''\n",
      "       \u001b[32;47;1m   991\u001b[0m| \u001b[32;47;1m+\u001b[0m         if text1 \u001b[32;47;1mis\u001b[0m None: text1 = ''\n",
      "       \u001b[32;47;1m   992\u001b[0m| \u001b[32;47;1m+\u001b[0m         if text2 \u001b[32;47;1mis\u001b[0m None: text2 = ''\n",
      "   993    993|   \n",
      "   994    994|           text1 = text1.rstrip('\\r\\n')\n",
      "   995    995|           text2 = text2.rstrip('\\r\\n')\n",
      "\n",
      "  2230   2230|               lines2 = codecs.open(file2, 'r', encoding=args.enc_\n",
      "     ^      ^|   file2).readlines()\n",
      "  2231   2231|           # for Python2.x\n",
      "  2232   2232|           except IOError:\n",
      "\u001b[31;47;1m  2233\u001b[0m       | \u001b[31;47;1m-\u001b[0m             if lines1 \u001b[31;47;1m==\u001b[0m None:\n",
      "       \u001b[32;47;1m  2233\u001b[0m| \u001b[32;47;1m+\u001b[0m             if lines1 \u001b[32;47;1mis\u001b[0m None:\n",
      "  2234   2234|                   filename = file1\n",
      "  2235   2235|               else:\n",
      "  2236   2236|                   filename = file2\n",
      "  2237   2237|               print('[Errno 2] No such file or directory: \\'' + f\n",
      "     ^      ^|   ilename + '\\'')\n",
      "  2238   2238|               return 1\n",
      "  2239   2239|           except UnicodeDecodeError:\n",
      "\u001b[31;47;1m  2240\u001b[0m       | \u001b[31;47;1m-\u001b[0m             if lines1 \u001b[31;47;1m==\u001b[0m None:\n",
      "       \u001b[32;47;1m  2240\u001b[0m| \u001b[32;47;1m+\u001b[0m             if lines1 \u001b[32;47;1mis\u001b[0m None:\n",
      "  2241   2241|                   filename = file1\n",
      "  2242   2242|                   encoding_text = args.enc_file1\n",
      "  2243   2243|                   optionname = '--enc-file1'\n",
      "\n"
     ]
    }
   ],
   "source": [
    "! cat git_diff_97ceb54a2c5_0db5105499 | uxdiff --withbg"
   ]
  },
  {
   "cell_type": "code",
   "execution_count": 6,
   "metadata": {},
   "outputs": [],
   "source": [
    "import uxdiff"
   ]
  },
  {
   "cell_type": "code",
   "execution_count": 7,
   "metadata": {},
   "outputs": [
    {
     "name": "stdout",
     "output_type": "stream",
     "text": [
      "     1      1|     1. Beautiful is better than ugly.\n",
      "\u001b[31;1m     2\u001b[0m       | \u001b[31;1m-\u001b[0m \u001b[31;1m  2. Explicit is better than implicit.\u001b[0m\n",
      "\u001b[31;1m     3\u001b[0m       | \u001b[31;1m-\u001b[0m   3. Simple is better than complex.\n",
      "\u001b[31;1m     4\u001b[0m       | \u001b[31;1m-\u001b[0m   4. Comple\u001b[31;1mx\u001b[0m is better than compl\u001b[31;1micat\u001b[0me\u001b[31;1md\u001b[0m.\n",
      "       \u001b[32;1m     2\u001b[0m| \u001b[32;1m+\u001b[0m   3.\u001b[32;1m  \u001b[0m Simple is better than complex.\n",
      "       \u001b[32;1m     3\u001b[0m| \u001b[32;1m+\u001b[0m   4. Compl\u001b[32;1micat\u001b[0me\u001b[32;1md\u001b[0m is better than comple\u001b[32;1mx\u001b[0m.\n",
      "       \u001b[32;1m     4\u001b[0m| \u001b[32;1m+\u001b[0m \u001b[32;1m  5. Flat is better than nested.\u001b[0m\n",
      "\n"
     ]
    }
   ],
   "source": [
    "with open(\"text1.txt\") as f1, open(\"text2.txt\") as f2:\n",
    "    for diff in uxdiff.LikeUnifiedDiffer().pretty_compare(\n",
    "        f1.readlines(), f2.readlines(),\n",
    "        withcolor=True):\n",
    "        print(diff)"
   ]
  },
  {
   "cell_type": "code",
   "execution_count": 8,
   "metadata": {},
   "outputs": [
    {
     "data": {
      "text/html": [
       "<table style=\"background: #f5f7f8; color: #000; width=100%; overflow-wrap: anywhere; text-align: start\">\n",
       "    <thead><tr><th>idx1</th><th>seq1</th><th></th><th>seq2</th><th>idx2</th><th></th>\n",
       "    <th></th><th>slice1</th><th></th><th>slice2</th><th></th></tr></thead><tbody><tr><td colspan=\"11\"></td></tr><tr style=\"color: #000;border-bottom: 1px solid #ddd; border-top: 1px solid #ddd; border-collapse: collapse;\"><td class=\"odd\" style=\"text-align: start; background: #fff;\">0</td><td class=\"odd\" style=\"text-align: start; background: #fff;\">  1. Beautiful is better than ugly.\n",
       "</td><td class=\"odd\" style=\"text-align: start; background: #fff;\"> </td><td class=\"odd\" style=\"text-align: start; background: #fff;\">  1. Beautiful is better than ugly.\n",
       "</td><td class=\"odd\" style=\"text-align: start; background: #fff;\">0</td><td  style=\" background: #f5f7f8;\"></td></tr><tr><td colspan=\"11\"></td></tr><tr><td colspan=\"11\"></td></tr><tr style=\"color: #000;border-bottom: 1px solid #ddd; border-top: 1px solid #ddd; border-collapse: collapse;\"><td  class=\"even\" style=\"text-align: start; background: #ffebe9;\">1</td><td  class=\"even\" style=\"text-align: start; background: #ffd7d5;font-weight: bold; color: #700;\">  2. Explicit is better than implicit.\n",
       "</td><td  class=\"even\" style=\"text-align: start; background: #ffd7d5;font-weight: bold; color: #700;\">&lt;</td><td  class=\"even\" style=\"text-align: start; background: #f5f7f8;\"></td><td  class=\"even\" style=\"text-align: start; background: #f5f7f8;\"></td><td  style=\" background: #f5f7f8;\"></td></tr><tr style=\"color: #000;border-bottom: 1px solid #ddd; border-top: 1px solid #ddd; border-collapse: collapse;\"><td class=\"odd\" rowspan=\"5\" style=\"text-align: start; background: #ffebe9;\">2</td><td class=\"odd\" rowspan=\"5\" style=\"text-align: start; background: #ffebe9;\">  3. Simple is better than complex.\n",
       "</td><td class=\"odd\" rowspan=\"5\" style=\"text-align: start; background: #f2e8ab;font-weight: bold; color: #330;\">|</td><td class=\"odd\" rowspan=\"5\" style=\"text-align: start; background: #e6ffec;\">  3.   Simple is better than complex.\n",
       "</td><td class=\"odd\" rowspan=\"5\" style=\"text-align: start; background: #e6ffec;\">1</td><td  style=\" background: #f5f7f8;\"></td></tr><tr style=\"color: #000;\"><td  style=\" background: #f5f7f8;\"><td  style=\"text-align: start; background: #fff;\">0:4<td  style=\"text-align: start; background: #fff;\">  3.</td><td  style=\"text-align: start; background: #fff;\"> </td><td  style=\"text-align: start; background: #fff;\">  3.</td><td  style=\"text-align: start; background: #fff;\">0:4</td></tr><tr style=\"color: #000;\"><td  style=\" background: #f5f7f8;\"><td  style=\"text-align: start; background: #f5f7f8;\">4:4<td  style=\"text-align: start; background: #f5f7f8;\"></td><td  style=\"text-align: start; background: #ccffd8;font-weight: bold; color: #040;\">+</td><td  style=\"text-align: start; background: #ccffd8;font-weight: bold; color: #040;\">  </td><td  style=\"text-align: start; background: #e6ffec;\">4:6</td></tr><tr style=\"color: #000;\"><td  style=\" background: #f5f7f8;\"><td  style=\"text-align: start; background: #fff;\">4:36<td  style=\"text-align: start; background: #fff;\"> Simple is better than complex.\n",
       "</td><td  style=\"text-align: start; background: #fff;\"> </td><td  style=\"text-align: start; background: #fff;\"> Simple is better than complex.\n",
       "</td><td  style=\"text-align: start; background: #fff;\">6:38</td></tr><tr><td  style=\" background: #f5f7f8;\"></td></tr><tr style=\"color: #000;border-bottom: 1px solid #ddd; border-top: 1px solid #ddd; border-collapse: collapse;\"><td  class=\"even\" rowspan=\"11\" style=\"text-align: start; background: #ffebe9;\">3</td><td  class=\"even\" rowspan=\"11\" style=\"text-align: start; background: #ffebe9;\">  4. Complex is better than complicated.\n",
       "</td><td  class=\"even\" rowspan=\"11\" style=\"text-align: start; background: #f2e8ab;font-weight: bold; color: #330;\">|</td><td  class=\"even\" rowspan=\"11\" style=\"text-align: start; background: #e6ffec;\">  4. Complicated is better than complex.\n",
       "</td><td  class=\"even\" rowspan=\"11\" style=\"text-align: start; background: #e6ffec;\">2</td><td  style=\" background: #f5f7f8;\"></td></tr><tr style=\"color: #000;\"><td  style=\" background: #f5f7f8;\"><td  style=\"text-align: start; background: #fff;\">0:10<td  style=\"text-align: start; background: #fff;\">  4. Compl</td><td  style=\"text-align: start; background: #fff;\"> </td><td  style=\"text-align: start; background: #fff;\">  4. Compl</td><td  style=\"text-align: start; background: #fff;\">0:10</td></tr><tr style=\"color: #000;\"><td  style=\" background: #f5f7f8;\"><td  style=\"text-align: start; background: #f5f7f8;\">10:10<td  style=\"text-align: start; background: #f5f7f8;\"></td><td  style=\"text-align: start; background: #ccffd8;font-weight: bold; color: #040;\">+</td><td  style=\"text-align: start; background: #ccffd8;font-weight: bold; color: #040;\">icat</td><td  style=\"text-align: start; background: #e6ffec;\">10:14</td></tr><tr style=\"color: #000;\"><td  style=\" background: #f5f7f8;\"><td  style=\"text-align: start; background: #fff;\">10<td  style=\"text-align: start; background: #fff;\">e</td><td  style=\"text-align: start; background: #fff;\"> </td><td  style=\"text-align: start; background: #fff;\">e</td><td  style=\"text-align: start; background: #fff;\">14</td></tr><tr style=\"color: #000;\"><td  style=\" background: #f5f7f8;\"><td  style=\"text-align: start; background: #ffebe9;\">11<td  style=\"text-align: start; background: #ffd7d5;font-weight: bold; color: #700;\">x</td><td  style=\"text-align: start; background: #f2e8ab;font-weight: bold; color: #330;\">!</td><td  style=\"text-align: start; background: #ccffd8;font-weight: bold; color: #040;\">d</td><td  style=\"text-align: start; background: #e6ffec;\">15</td></tr><tr style=\"color: #000;\"><td  style=\" background: #f5f7f8;\"><td  style=\"text-align: start; background: #fff;\">12:33<td  style=\"text-align: start; background: #fff;\"> is better than compl</td><td  style=\"text-align: start; background: #fff;\"> </td><td  style=\"text-align: start; background: #fff;\"> is better than compl</td><td  style=\"text-align: start; background: #fff;\">16:37</td></tr><tr style=\"color: #000;\"><td  style=\" background: #f5f7f8;\"><td  style=\"text-align: start; background: #ffebe9;\">33:37<td  style=\"text-align: start; background: #ffd7d5;font-weight: bold; color: #700;\">icat</td><td  style=\"text-align: start; background: #ffd7d5;font-weight: bold; color: #700;\">-</td><td  style=\"text-align: start; background: #f5f7f8;\"></td><td  style=\"text-align: start; background: #f5f7f8;\">37:37</td></tr><tr style=\"color: #000;\"><td  style=\" background: #f5f7f8;\"><td  style=\"text-align: start; background: #fff;\">37<td  style=\"text-align: start; background: #fff;\">e</td><td  style=\"text-align: start; background: #fff;\"> </td><td  style=\"text-align: start; background: #fff;\">e</td><td  style=\"text-align: start; background: #fff;\">37</td></tr><tr style=\"color: #000;\"><td  style=\" background: #f5f7f8;\"><td  style=\"text-align: start; background: #ffebe9;\">38<td  style=\"text-align: start; background: #ffd7d5;font-weight: bold; color: #700;\">d</td><td  style=\"text-align: start; background: #f2e8ab;font-weight: bold; color: #330;\">!</td><td  style=\"text-align: start; background: #ccffd8;font-weight: bold; color: #040;\">x</td><td  style=\"text-align: start; background: #e6ffec;\">38</td></tr><tr style=\"color: #000;\"><td  style=\" background: #f5f7f8;\"><td  style=\"text-align: start; background: #fff;\">39:41<td  style=\"text-align: start; background: #fff;\">.\n",
       "</td><td  style=\"text-align: start; background: #fff;\"> </td><td  style=\"text-align: start; background: #fff;\">.\n",
       "</td><td  style=\"text-align: start; background: #fff;\">39:41</td></tr><tr><td  style=\" background: #f5f7f8;\"></td></tr><tr style=\"color: #000;border-bottom: 1px solid #ddd; border-top: 1px solid #ddd; border-collapse: collapse;\"><td class=\"odd\" style=\"text-align: start; background: #f5f7f8;\"></td><td class=\"odd\" style=\"text-align: start; background: #f5f7f8;\"></td><td class=\"odd\" style=\"text-align: start; background: #ccffd8;font-weight: bold; color: #040;\">&gt;</td><td class=\"odd\" style=\"text-align: start; background: #ccffd8;font-weight: bold; color: #040;\">  5. Flat is better than nested.\n",
       "</td><td class=\"odd\" style=\"text-align: start; background: #e6ffec;\">3</td><td  style=\" background: #f5f7f8;\"></td></tr><tr><td colspan=\"11\"></td></tr></tbody></table>"
      ],
      "text/plain": [
       "'<table style=\"background: #f5f7f8; color: #000; width=100%; overflow-wrap: anywhere; text-align: start\">\\n    <thead><tr><th>idx1</th><th>seq1</th><th></th><th>seq2</th><th>idx2</th><th></th>\\n    <th></th><th>slice1</th><th></th><th>slice2</th><th></th></tr></thead><tbody><tr><td colspan=\"11\"></td></tr><tr style=\"color: #000;border-bottom: 1px solid #ddd; border-top: 1px solid #ddd; border-collapse: collapse;\"><td class=\"odd\" style=\"text-align: start; background: #fff;\">0</td><td class=\"odd\" style=\"text-align: start; background: #fff;\">  1. Beautiful is better than ugly.\\n</td><td class=\"odd\" style=\"text-align: start; background: #fff;\"> </td><td class=\"odd\" style=\"text-align: start; background: #fff;\">  1. Beautiful is better than ugly.\\n</td><td class=\"odd\" style=\"text-align: start; background: #fff;\">0</td><td  style=\" background: #f5f7f8;\"></td></tr><tr><td colspan=\"11\"></td></tr><tr><td colspan=\"11\"></td></tr><tr style=\"color: #000;border-bottom: 1px solid #ddd; border-top: 1px solid #ddd; border-collapse: collapse;\"><td  class=\"even\" style=\"text-align: start; background: #ffebe9;\">1</td><td  class=\"even\" style=\"text-align: start; background: #ffd7d5;font-weight: bold; color: #700;\">  2. Explicit is better than implicit.\\n</td><td  class=\"even\" style=\"text-align: start; background: #ffd7d5;font-weight: bold; color: #700;\">&lt;</td><td  class=\"even\" style=\"text-align: start; background: #f5f7f8;\"></td><td  class=\"even\" style=\"text-align: start; background: #f5f7f8;\"></td><td  style=\" background: #f5f7f8;\"></td></tr><tr style=\"color: #000;border-bottom: 1px solid #ddd; border-top: 1px solid #ddd; border-collapse: collapse;\"><td class=\"odd\" rowspan=\"5\" style=\"text-align: start; background: #ffebe9;\">2</td><td class=\"odd\" rowspan=\"5\" style=\"text-align: start; background: #ffebe9;\">  3. Simple is better than complex.\\n</td><td class=\"odd\" rowspan=\"5\" style=\"text-align: start; background: #f2e8ab;font-weight: bold; color: #330;\">|</td><td class=\"odd\" rowspan=\"5\" style=\"text-align: start; background: #e6ffec;\">  3.   Simple is better than complex.\\n</td><td class=\"odd\" rowspan=\"5\" style=\"text-align: start; background: #e6ffec;\">1</td><td  style=\" background: #f5f7f8;\"></td></tr><tr style=\"color: #000;\"><td  style=\" background: #f5f7f8;\"><td  style=\"text-align: start; background: #fff;\">0:4<td  style=\"text-align: start; background: #fff;\">  3.</td><td  style=\"text-align: start; background: #fff;\"> </td><td  style=\"text-align: start; background: #fff;\">  3.</td><td  style=\"text-align: start; background: #fff;\">0:4</td></tr><tr style=\"color: #000;\"><td  style=\" background: #f5f7f8;\"><td  style=\"text-align: start; background: #f5f7f8;\">4:4<td  style=\"text-align: start; background: #f5f7f8;\"></td><td  style=\"text-align: start; background: #ccffd8;font-weight: bold; color: #040;\">+</td><td  style=\"text-align: start; background: #ccffd8;font-weight: bold; color: #040;\">  </td><td  style=\"text-align: start; background: #e6ffec;\">4:6</td></tr><tr style=\"color: #000;\"><td  style=\" background: #f5f7f8;\"><td  style=\"text-align: start; background: #fff;\">4:36<td  style=\"text-align: start; background: #fff;\"> Simple is better than complex.\\n</td><td  style=\"text-align: start; background: #fff;\"> </td><td  style=\"text-align: start; background: #fff;\"> Simple is better than complex.\\n</td><td  style=\"text-align: start; background: #fff;\">6:38</td></tr><tr><td  style=\" background: #f5f7f8;\"></td></tr><tr style=\"color: #000;border-bottom: 1px solid #ddd; border-top: 1px solid #ddd; border-collapse: collapse;\"><td  class=\"even\" rowspan=\"11\" style=\"text-align: start; background: #ffebe9;\">3</td><td  class=\"even\" rowspan=\"11\" style=\"text-align: start; background: #ffebe9;\">  4. Complex is better than complicated.\\n</td><td  class=\"even\" rowspan=\"11\" style=\"text-align: start; background: #f2e8ab;font-weight: bold; color: #330;\">|</td><td  class=\"even\" rowspan=\"11\" style=\"text-align: start; background: #e6ffec;\">  4. Complicated is better than complex.\\n</td><td  class=\"even\" rowspan=\"11\" style=\"text-align: start; background: #e6ffec;\">2</td><td  style=\" background: #f5f7f8;\"></td></tr><tr style=\"color: #000;\"><td  style=\" background: #f5f7f8;\"><td  style=\"text-align: start; background: #fff;\">0:10<td  style=\"text-align: start; background: #fff;\">  4. Compl</td><td  style=\"text-align: start; background: #fff;\"> </td><td  style=\"text-align: start; background: #fff;\">  4. Compl</td><td  style=\"text-align: start; background: #fff;\">0:10</td></tr><tr style=\"color: #000;\"><td  style=\" background: #f5f7f8;\"><td  style=\"text-align: start; background: #f5f7f8;\">10:10<td  style=\"text-align: start; background: #f5f7f8;\"></td><td  style=\"text-align: start; background: #ccffd8;font-weight: bold; color: #040;\">+</td><td  style=\"text-align: start; background: #ccffd8;font-weight: bold; color: #040;\">icat</td><td  style=\"text-align: start; background: #e6ffec;\">10:14</td></tr><tr style=\"color: #000;\"><td  style=\" background: #f5f7f8;\"><td  style=\"text-align: start; background: #fff;\">10<td  style=\"text-align: start; background: #fff;\">e</td><td  style=\"text-align: start; background: #fff;\"> </td><td  style=\"text-align: start; background: #fff;\">e</td><td  style=\"text-align: start; background: #fff;\">14</td></tr><tr style=\"color: #000;\"><td  style=\" background: #f5f7f8;\"><td  style=\"text-align: start; background: #ffebe9;\">11<td  style=\"text-align: start; background: #ffd7d5;font-weight: bold; color: #700;\">x</td><td  style=\"text-align: start; background: #f2e8ab;font-weight: bold; color: #330;\">!</td><td  style=\"text-align: start; background: #ccffd8;font-weight: bold; color: #040;\">d</td><td  style=\"text-align: start; background: #e6ffec;\">15</td></tr><tr style=\"color: #000;\"><td  style=\" background: #f5f7f8;\"><td  style=\"text-align: start; background: #fff;\">12:33<td  style=\"text-align: start; background: #fff;\"> is better than compl</td><td  style=\"text-align: start; background: #fff;\"> </td><td  style=\"text-align: start; background: #fff;\"> is better than compl</td><td  style=\"text-align: start; background: #fff;\">16:37</td></tr><tr style=\"color: #000;\"><td  style=\" background: #f5f7f8;\"><td  style=\"text-align: start; background: #ffebe9;\">33:37<td  style=\"text-align: start; background: #ffd7d5;font-weight: bold; color: #700;\">icat</td><td  style=\"text-align: start; background: #ffd7d5;font-weight: bold; color: #700;\">-</td><td  style=\"text-align: start; background: #f5f7f8;\"></td><td  style=\"text-align: start; background: #f5f7f8;\">37:37</td></tr><tr style=\"color: #000;\"><td  style=\" background: #f5f7f8;\"><td  style=\"text-align: start; background: #fff;\">37<td  style=\"text-align: start; background: #fff;\">e</td><td  style=\"text-align: start; background: #fff;\"> </td><td  style=\"text-align: start; background: #fff;\">e</td><td  style=\"text-align: start; background: #fff;\">37</td></tr><tr style=\"color: #000;\"><td  style=\" background: #f5f7f8;\"><td  style=\"text-align: start; background: #ffebe9;\">38<td  style=\"text-align: start; background: #ffd7d5;font-weight: bold; color: #700;\">d</td><td  style=\"text-align: start; background: #f2e8ab;font-weight: bold; color: #330;\">!</td><td  style=\"text-align: start; background: #ccffd8;font-weight: bold; color: #040;\">x</td><td  style=\"text-align: start; background: #e6ffec;\">38</td></tr><tr style=\"color: #000;\"><td  style=\" background: #f5f7f8;\"><td  style=\"text-align: start; background: #fff;\">39:41<td  style=\"text-align: start; background: #fff;\">.\\n</td><td  style=\"text-align: start; background: #fff;\"> </td><td  style=\"text-align: start; background: #fff;\">.\\n</td><td  style=\"text-align: start; background: #fff;\">39:41</td></tr><tr><td  style=\" background: #f5f7f8;\"></td></tr><tr style=\"color: #000;border-bottom: 1px solid #ddd; border-top: 1px solid #ddd; border-collapse: collapse;\"><td class=\"odd\" style=\"text-align: start; background: #f5f7f8;\"></td><td class=\"odd\" style=\"text-align: start; background: #f5f7f8;\"></td><td class=\"odd\" style=\"text-align: start; background: #ccffd8;font-weight: bold; color: #040;\">&gt;</td><td class=\"odd\" style=\"text-align: start; background: #ccffd8;font-weight: bold; color: #040;\">  5. Flat is better than nested.\\n</td><td class=\"odd\" style=\"text-align: start; background: #e6ffec;\">3</td><td  style=\" background: #f5f7f8;\"></td></tr><tr><td colspan=\"11\"></td></tr></tbody></table>'"
      ]
     },
     "execution_count": 8,
     "metadata": {},
     "output_type": "execute_result"
    }
   ],
   "source": [
    "with open(\"text1.txt\") as f1, open(\"text2.txt\") as f2:\n",
    "    table = uxdiff.tabulate(uxdiff.Differ().compare(\n",
    "        f1.readlines(), f2.readlines()))\n",
    "table"
   ]
  },
  {
   "cell_type": "code",
   "execution_count": 9,
   "metadata": {},
   "outputs": [
    {
     "data": {
      "text/html": [
       "<table style=\"background: #f5f7f8; color: #000; width=100%; overflow-wrap: anywhere; text-align: start\">\n",
       "    <thead><tr><th>idx1</th><th>seq1</th><th></th><th>seq2</th><th>idx2</th><th></th>\n",
       "    <th></th><th>slice1</th><th></th><th>slice2</th><th></th></tr></thead><tbody><tr><td colspan=\"11\"></td></tr><tr style=\"color: #000;border-bottom: 1px solid #ddd; border-top: 1px solid #ddd; border-collapse: collapse;\"><td class=\"odd\" style=\"text-align: start; background: #ffebe9;\">0</td><td class=\"odd\" style=\"text-align: start; background: #ffd7d5;font-weight: bold; color: #700;\">seq1</td><td class=\"odd\" style=\"text-align: start; background: #ffd7d5;font-weight: bold; color: #700;\">&lt;</td><td class=\"odd\" style=\"text-align: start; background: #f5f7f8;\"></td><td class=\"odd\" style=\"text-align: start; background: #f5f7f8;\"></td><td  style=\" background: #f5f7f8;\"></td></tr><tr style=\"color: #000;border-bottom: 1px solid #ddd; border-top: 1px solid #ddd; border-collapse: collapse;\"><td  class=\"even\" style=\"text-align: start; background: #f5f7f8;\"></td><td  class=\"even\" style=\"text-align: start; background: #f5f7f8;\"></td><td  class=\"even\" style=\"text-align: start; background: #ccffd8;font-weight: bold; color: #040;\">&gt;</td><td  class=\"even\" style=\"text-align: start; background: #ccffd8;font-weight: bold; color: #040;\">seq2</td><td  class=\"even\" style=\"text-align: start; background: #e6ffec;\">0</td><td  style=\" background: #f5f7f8;\"></td></tr><tr><td colspan=\"11\"></td></tr><tr><td colspan=\"11\"></td></tr><tr style=\"color: #000;border-bottom: 1px solid #ddd; border-top: 1px solid #ddd; border-collapse: collapse;\"><td class=\"odd\" style=\"text-align: start; background: #fff;\">1</td><td class=\"odd\" style=\"text-align: start; background: #fff;\">True</td><td class=\"odd\" style=\"text-align: start; background: #fff;\"> </td><td class=\"odd\" style=\"text-align: start; background: #fff;\">True</td><td class=\"odd\" style=\"text-align: start; background: #fff;\">1</td><td  style=\" background: #f5f7f8;\"></td></tr><tr style=\"color: #000;border-bottom: 1px solid #ddd; border-top: 1px solid #ddd; border-collapse: collapse;\"><td  class=\"even\" style=\"text-align: start; background: #fff;\">2</td><td  class=\"even\" style=\"text-align: start; background: #fff;\">False</td><td  class=\"even\" style=\"text-align: start; background: #fff;\"> </td><td  class=\"even\" style=\"text-align: start; background: #fff;\">False</td><td  class=\"even\" style=\"text-align: start; background: #fff;\">2</td><td  style=\" background: #f5f7f8;\"></td></tr><tr><td colspan=\"11\"></td></tr><tr><td colspan=\"11\"></td></tr><tr style=\"color: #000;border-bottom: 1px solid #ddd; border-top: 1px solid #ddd; border-collapse: collapse;\"><td class=\"odd\" style=\"text-align: start; background: #ffebe9;\">3</td><td class=\"odd\" style=\"text-align: start; background: #ffd7d5;font-weight: bold; color: #700;\">None</td><td class=\"odd\" style=\"text-align: start; background: #f2e8ab;font-weight: bold; color: #330;\">|</td><td class=\"odd\" style=\"text-align: start; background: #ccffd8;font-weight: bold; color: #040;\">(None, 6, 7)</td><td class=\"odd\" style=\"text-align: start; background: #e6ffec;\">3</td><td  style=\" background: #f5f7f8;\"></td></tr><tr style=\"color: #000;border-bottom: 1px solid #ddd; border-top: 1px solid #ddd; border-collapse: collapse;\"><td  class=\"even\" style=\"text-align: start; background: #ffebe9;\">4</td><td  class=\"even\" style=\"text-align: start; background: #ffd7d5;font-weight: bold; color: #700;\">6</td><td  class=\"even\" style=\"text-align: start; background: #ffd7d5;font-weight: bold; color: #700;\">&lt;</td><td  class=\"even\" style=\"text-align: start; background: #f5f7f8;\"></td><td  class=\"even\" style=\"text-align: start; background: #f5f7f8;\"></td><td  style=\" background: #f5f7f8;\"></td></tr><tr style=\"color: #000;border-bottom: 1px solid #ddd; border-top: 1px solid #ddd; border-collapse: collapse;\"><td class=\"odd\" style=\"text-align: start; background: #ffebe9;\">5</td><td class=\"odd\" style=\"text-align: start; background: #ffd7d5;font-weight: bold; color: #700;\">7</td><td class=\"odd\" style=\"text-align: start; background: #ffd7d5;font-weight: bold; color: #700;\">&lt;</td><td class=\"odd\" style=\"text-align: start; background: #f5f7f8;\"></td><td class=\"odd\" style=\"text-align: start; background: #f5f7f8;\"></td><td  style=\" background: #f5f7f8;\"></td></tr><tr style=\"color: #000;border-bottom: 1px solid #ddd; border-top: 1px solid #ddd; border-collapse: collapse;\"><td  class=\"even\" style=\"text-align: start; background: #ffebe9;\">6</td><td  class=\"even\" style=\"text-align: start; background: #ffd7d5;font-weight: bold; color: #700;\">None</td><td  class=\"even\" style=\"text-align: start; background: #ffd7d5;font-weight: bold; color: #700;\">&lt;</td><td  class=\"even\" style=\"text-align: start; background: #f5f7f8;\"></td><td  class=\"even\" style=\"text-align: start; background: #f5f7f8;\"></td><td  style=\" background: #f5f7f8;\"></td></tr><tr><td colspan=\"11\"></td></tr><tr><td colspan=\"11\"></td></tr><tr style=\"color: #000;border-bottom: 1px solid #ddd; border-top: 1px solid #ddd; border-collapse: collapse;\"><td class=\"odd\" style=\"text-align: start; background: #fff;\">7</td><td class=\"odd\" style=\"text-align: start; background: #fff;\">8</td><td class=\"odd\" style=\"text-align: start; background: #fff;\"> </td><td class=\"odd\" style=\"text-align: start; background: #fff;\">8</td><td class=\"odd\" style=\"text-align: start; background: #fff;\">4</td><td  style=\" background: #f5f7f8;\"></td></tr><tr style=\"color: #000;border-bottom: 1px solid #ddd; border-top: 1px solid #ddd; border-collapse: collapse;\"><td  class=\"even\" style=\"text-align: start; background: #fff;\">8</td><td  class=\"even\" style=\"text-align: start; background: #fff;\">9</td><td  class=\"even\" style=\"text-align: start; background: #fff;\"> </td><td  class=\"even\" style=\"text-align: start; background: #fff;\">9</td><td  class=\"even\" style=\"text-align: start; background: #fff;\">5</td><td  style=\" background: #f5f7f8;\"></td></tr><tr><td colspan=\"11\"></td></tr><tr><td colspan=\"11\"></td></tr><tr style=\"color: #000;border-bottom: 1px solid #ddd; border-top: 1px solid #ddd; border-collapse: collapse;\"><td class=\"odd\" style=\"text-align: start; background: #f5f7f8;\"></td><td class=\"odd\" style=\"text-align: start; background: #f5f7f8;\"></td><td class=\"odd\" style=\"text-align: start; background: #ccffd8;font-weight: bold; color: #040;\">&gt;</td><td class=\"odd\" style=\"text-align: start; background: #ccffd8;font-weight: bold; color: #040;\">None</td><td class=\"odd\" style=\"text-align: start; background: #e6ffec;\">6</td><td  style=\" background: #f5f7f8;\"></td></tr><tr><td colspan=\"11\"></td></tr><tr><td colspan=\"11\"></td></tr><tr style=\"color: #000;border-bottom: 1px solid #ddd; border-top: 1px solid #ddd; border-collapse: collapse;\"><td  class=\"even\" style=\"text-align: start; background: #fff;\">9</td><td  class=\"even\" style=\"text-align: start; background: #fff;\">0</td><td  class=\"even\" style=\"text-align: start; background: #fff;\"> </td><td  class=\"even\" style=\"text-align: start; background: #fff;\">0</td><td  class=\"even\" style=\"text-align: start; background: #fff;\">7</td><td  style=\" background: #f5f7f8;\"></td></tr><tr><td colspan=\"11\"></td></tr></tbody></table>"
      ],
      "text/plain": [
       "'<table style=\"background: #f5f7f8; color: #000; width=100%; overflow-wrap: anywhere; text-align: start\">\\n    <thead><tr><th>idx1</th><th>seq1</th><th></th><th>seq2</th><th>idx2</th><th></th>\\n    <th></th><th>slice1</th><th></th><th>slice2</th><th></th></tr></thead><tbody><tr><td colspan=\"11\"></td></tr><tr style=\"color: #000;border-bottom: 1px solid #ddd; border-top: 1px solid #ddd; border-collapse: collapse;\"><td class=\"odd\" style=\"text-align: start; background: #ffebe9;\">0</td><td class=\"odd\" style=\"text-align: start; background: #ffd7d5;font-weight: bold; color: #700;\">seq1</td><td class=\"odd\" style=\"text-align: start; background: #ffd7d5;font-weight: bold; color: #700;\">&lt;</td><td class=\"odd\" style=\"text-align: start; background: #f5f7f8;\"></td><td class=\"odd\" style=\"text-align: start; background: #f5f7f8;\"></td><td  style=\" background: #f5f7f8;\"></td></tr><tr style=\"color: #000;border-bottom: 1px solid #ddd; border-top: 1px solid #ddd; border-collapse: collapse;\"><td  class=\"even\" style=\"text-align: start; background: #f5f7f8;\"></td><td  class=\"even\" style=\"text-align: start; background: #f5f7f8;\"></td><td  class=\"even\" style=\"text-align: start; background: #ccffd8;font-weight: bold; color: #040;\">&gt;</td><td  class=\"even\" style=\"text-align: start; background: #ccffd8;font-weight: bold; color: #040;\">seq2</td><td  class=\"even\" style=\"text-align: start; background: #e6ffec;\">0</td><td  style=\" background: #f5f7f8;\"></td></tr><tr><td colspan=\"11\"></td></tr><tr><td colspan=\"11\"></td></tr><tr style=\"color: #000;border-bottom: 1px solid #ddd; border-top: 1px solid #ddd; border-collapse: collapse;\"><td class=\"odd\" style=\"text-align: start; background: #fff;\">1</td><td class=\"odd\" style=\"text-align: start; background: #fff;\">True</td><td class=\"odd\" style=\"text-align: start; background: #fff;\"> </td><td class=\"odd\" style=\"text-align: start; background: #fff;\">True</td><td class=\"odd\" style=\"text-align: start; background: #fff;\">1</td><td  style=\" background: #f5f7f8;\"></td></tr><tr style=\"color: #000;border-bottom: 1px solid #ddd; border-top: 1px solid #ddd; border-collapse: collapse;\"><td  class=\"even\" style=\"text-align: start; background: #fff;\">2</td><td  class=\"even\" style=\"text-align: start; background: #fff;\">False</td><td  class=\"even\" style=\"text-align: start; background: #fff;\"> </td><td  class=\"even\" style=\"text-align: start; background: #fff;\">False</td><td  class=\"even\" style=\"text-align: start; background: #fff;\">2</td><td  style=\" background: #f5f7f8;\"></td></tr><tr><td colspan=\"11\"></td></tr><tr><td colspan=\"11\"></td></tr><tr style=\"color: #000;border-bottom: 1px solid #ddd; border-top: 1px solid #ddd; border-collapse: collapse;\"><td class=\"odd\" style=\"text-align: start; background: #ffebe9;\">3</td><td class=\"odd\" style=\"text-align: start; background: #ffd7d5;font-weight: bold; color: #700;\">None</td><td class=\"odd\" style=\"text-align: start; background: #f2e8ab;font-weight: bold; color: #330;\">|</td><td class=\"odd\" style=\"text-align: start; background: #ccffd8;font-weight: bold; color: #040;\">(None, 6, 7)</td><td class=\"odd\" style=\"text-align: start; background: #e6ffec;\">3</td><td  style=\" background: #f5f7f8;\"></td></tr><tr style=\"color: #000;border-bottom: 1px solid #ddd; border-top: 1px solid #ddd; border-collapse: collapse;\"><td  class=\"even\" style=\"text-align: start; background: #ffebe9;\">4</td><td  class=\"even\" style=\"text-align: start; background: #ffd7d5;font-weight: bold; color: #700;\">6</td><td  class=\"even\" style=\"text-align: start; background: #ffd7d5;font-weight: bold; color: #700;\">&lt;</td><td  class=\"even\" style=\"text-align: start; background: #f5f7f8;\"></td><td  class=\"even\" style=\"text-align: start; background: #f5f7f8;\"></td><td  style=\" background: #f5f7f8;\"></td></tr><tr style=\"color: #000;border-bottom: 1px solid #ddd; border-top: 1px solid #ddd; border-collapse: collapse;\"><td class=\"odd\" style=\"text-align: start; background: #ffebe9;\">5</td><td class=\"odd\" style=\"text-align: start; background: #ffd7d5;font-weight: bold; color: #700;\">7</td><td class=\"odd\" style=\"text-align: start; background: #ffd7d5;font-weight: bold; color: #700;\">&lt;</td><td class=\"odd\" style=\"text-align: start; background: #f5f7f8;\"></td><td class=\"odd\" style=\"text-align: start; background: #f5f7f8;\"></td><td  style=\" background: #f5f7f8;\"></td></tr><tr style=\"color: #000;border-bottom: 1px solid #ddd; border-top: 1px solid #ddd; border-collapse: collapse;\"><td  class=\"even\" style=\"text-align: start; background: #ffebe9;\">6</td><td  class=\"even\" style=\"text-align: start; background: #ffd7d5;font-weight: bold; color: #700;\">None</td><td  class=\"even\" style=\"text-align: start; background: #ffd7d5;font-weight: bold; color: #700;\">&lt;</td><td  class=\"even\" style=\"text-align: start; background: #f5f7f8;\"></td><td  class=\"even\" style=\"text-align: start; background: #f5f7f8;\"></td><td  style=\" background: #f5f7f8;\"></td></tr><tr><td colspan=\"11\"></td></tr><tr><td colspan=\"11\"></td></tr><tr style=\"color: #000;border-bottom: 1px solid #ddd; border-top: 1px solid #ddd; border-collapse: collapse;\"><td class=\"odd\" style=\"text-align: start; background: #fff;\">7</td><td class=\"odd\" style=\"text-align: start; background: #fff;\">8</td><td class=\"odd\" style=\"text-align: start; background: #fff;\"> </td><td class=\"odd\" style=\"text-align: start; background: #fff;\">8</td><td class=\"odd\" style=\"text-align: start; background: #fff;\">4</td><td  style=\" background: #f5f7f8;\"></td></tr><tr style=\"color: #000;border-bottom: 1px solid #ddd; border-top: 1px solid #ddd; border-collapse: collapse;\"><td  class=\"even\" style=\"text-align: start; background: #fff;\">8</td><td  class=\"even\" style=\"text-align: start; background: #fff;\">9</td><td  class=\"even\" style=\"text-align: start; background: #fff;\"> </td><td  class=\"even\" style=\"text-align: start; background: #fff;\">9</td><td  class=\"even\" style=\"text-align: start; background: #fff;\">5</td><td  style=\" background: #f5f7f8;\"></td></tr><tr><td colspan=\"11\"></td></tr><tr><td colspan=\"11\"></td></tr><tr style=\"color: #000;border-bottom: 1px solid #ddd; border-top: 1px solid #ddd; border-collapse: collapse;\"><td class=\"odd\" style=\"text-align: start; background: #f5f7f8;\"></td><td class=\"odd\" style=\"text-align: start; background: #f5f7f8;\"></td><td class=\"odd\" style=\"text-align: start; background: #ccffd8;font-weight: bold; color: #040;\">&gt;</td><td class=\"odd\" style=\"text-align: start; background: #ccffd8;font-weight: bold; color: #040;\">None</td><td class=\"odd\" style=\"text-align: start; background: #e6ffec;\">6</td><td  style=\" background: #f5f7f8;\"></td></tr><tr><td colspan=\"11\"></td></tr><tr><td colspan=\"11\"></td></tr><tr style=\"color: #000;border-bottom: 1px solid #ddd; border-top: 1px solid #ddd; border-collapse: collapse;\"><td  class=\"even\" style=\"text-align: start; background: #fff;\">9</td><td  class=\"even\" style=\"text-align: start; background: #fff;\">0</td><td  class=\"even\" style=\"text-align: start; background: #fff;\"> </td><td  class=\"even\" style=\"text-align: start; background: #fff;\">0</td><td  class=\"even\" style=\"text-align: start; background: #fff;\">7</td><td  style=\" background: #f5f7f8;\"></td></tr><tr><td colspan=\"11\"></td></tr></tbody></table>'"
      ]
     },
     "execution_count": 9,
     "metadata": {},
     "output_type": "execute_result"
    }
   ],
   "source": [
    "uxdiff.tabulate(uxdiff.Differ().compare(\n",
    "    [\"seq1\", True, False, None, 6, 7, None, 8, 9, 0],\n",
    "    [\"seq2\", True, False, (None, 6, 7), 8, 9, None, 0],\n",
    "))"
   ]
  },
  {
   "cell_type": "code",
   "execution_count": 10,
   "metadata": {},
   "outputs": [
    {
     "data": {
      "text/html": [
       "<table style=\"background: #f5f7f8; color: #000; width=100%; overflow-wrap: anywhere; text-align: start\">\n",
       "    <thead><tr><th>idx1</th><th>seq1</th><th></th><th>seq2</th><th>idx2</th><th></th>\n",
       "    <th></th><th>slice1</th><th></th><th>slice2</th><th></th></tr></thead><tbody><tr><td colspan=\"11\"></td></tr><tr style=\"color: #000;border-bottom: 1px solid #ddd; border-top: 1px solid #ddd; border-collapse: collapse;\"><td class=\"odd\" style=\"text-align: start; background: #ffebe9;\">0</td><td class=\"odd\" style=\"text-align: start; background: #ffd7d5;font-weight: bold; color: #700;\">bacon</td><td class=\"odd\" style=\"text-align: start; background: #ffd7d5;font-weight: bold; color: #700;\">&lt;</td><td class=\"odd\" style=\"text-align: start; background: #f5f7f8;\"></td><td class=\"odd\" style=\"text-align: start; background: #f5f7f8;\"></td><td  style=\" background: #f5f7f8;\"></td></tr><tr style=\"color: #000;border-bottom: 1px solid #ddd; border-top: 1px solid #ddd; border-collapse: collapse;\"><td  class=\"even\" style=\"text-align: start; background: #f5f7f8;\"></td><td  class=\"even\" style=\"text-align: start; background: #f5f7f8;\"></td><td  class=\"even\" style=\"text-align: start; background: #ccffd8;font-weight: bold; color: #040;\">&gt;</td><td  class=\"even\" style=\"text-align: start; background: #ccffd8;font-weight: bold; color: #040;\">python</td><td  class=\"even\" style=\"text-align: start; background: #e6ffec;\">0</td><td  style=\" background: #f5f7f8;\"></td></tr><tr style=\"color: #000;border-bottom: 1px solid #ddd; border-top: 1px solid #ddd; border-collapse: collapse;\"><td class=\"odd\" rowspan=\"4\" style=\"text-align: start; background: #ffebe9;\">1</td><td class=\"odd\" rowspan=\"4\" style=\"text-align: start; background: #ffebe9;\">eggs</td><td class=\"odd\" rowspan=\"4\" style=\"text-align: start; background: #f2e8ab;font-weight: bold; color: #330;\">|</td><td class=\"odd\" rowspan=\"4\" style=\"text-align: start; background: #e6ffec;\">eggy</td><td class=\"odd\" rowspan=\"4\" style=\"text-align: start; background: #e6ffec;\">1</td><td  style=\" background: #f5f7f8;\"></td></tr><tr style=\"color: #000;\"><td  style=\" background: #f5f7f8;\"><td  style=\"text-align: start; background: #fff;\">0:3<td  style=\"text-align: start; background: #fff;\">egg</td><td  style=\"text-align: start; background: #fff;\"> </td><td  style=\"text-align: start; background: #fff;\">egg</td><td  style=\"text-align: start; background: #fff;\">0:3</td></tr><tr style=\"color: #000;\"><td  style=\" background: #f5f7f8;\"><td  style=\"text-align: start; background: #ffebe9;\">3<td  style=\"text-align: start; background: #ffd7d5;font-weight: bold; color: #700;\">s</td><td  style=\"text-align: start; background: #f2e8ab;font-weight: bold; color: #330;\">!</td><td  style=\"text-align: start; background: #ccffd8;font-weight: bold; color: #040;\">y</td><td  style=\"text-align: start; background: #e6ffec;\">3</td></tr><tr><td  style=\" background: #f5f7f8;\"></td></tr><tr style=\"color: #000;border-bottom: 1px solid #ddd; border-top: 1px solid #ddd; border-collapse: collapse;\"><td  class=\"even\" rowspan=\"4\" style=\"text-align: start; background: #ffebe9;\">2</td><td  class=\"even\" rowspan=\"4\" style=\"text-align: start; background: #ffebe9;\">ham</td><td  class=\"even\" rowspan=\"4\" style=\"text-align: start; background: #f2e8ab;font-weight: bold; color: #330;\">|</td><td  class=\"even\" rowspan=\"4\" style=\"text-align: start; background: #e6ffec;\">hamster</td><td  class=\"even\" rowspan=\"4\" style=\"text-align: start; background: #e6ffec;\">2</td><td  style=\" background: #f5f7f8;\"></td></tr><tr style=\"color: #000;\"><td  style=\" background: #f5f7f8;\"><td  style=\"text-align: start; background: #fff;\">0:3<td  style=\"text-align: start; background: #fff;\">ham</td><td  style=\"text-align: start; background: #fff;\"> </td><td  style=\"text-align: start; background: #fff;\">ham</td><td  style=\"text-align: start; background: #fff;\">0:3</td></tr><tr style=\"color: #000;\"><td  style=\" background: #f5f7f8;\"><td  style=\"text-align: start; background: #f5f7f8;\">3:3<td  style=\"text-align: start; background: #f5f7f8;\"></td><td  style=\"text-align: start; background: #ccffd8;font-weight: bold; color: #040;\">+</td><td  style=\"text-align: start; background: #ccffd8;font-weight: bold; color: #040;\">ster</td><td  style=\"text-align: start; background: #e6ffec;\">3:7</td></tr><tr><td  style=\" background: #f5f7f8;\"></td></tr><tr style=\"color: #000;border-bottom: 1px solid #ddd; border-top: 1px solid #ddd; border-collapse: collapse;\"><td class=\"odd\" rowspan=\"4\" style=\"text-align: start; background: #ffebe9;\">3</td><td class=\"odd\" rowspan=\"4\" style=\"text-align: start; background: #ffebe9;\">guidovan</td><td class=\"odd\" rowspan=\"4\" style=\"text-align: start; background: #f2e8ab;font-weight: bold; color: #330;\">|</td><td class=\"odd\" rowspan=\"4\" style=\"text-align: start; background: #e6ffec;\">guido</td><td class=\"odd\" rowspan=\"4\" style=\"text-align: start; background: #e6ffec;\">3</td><td  style=\" background: #f5f7f8;\"></td></tr><tr style=\"color: #000;\"><td  style=\" background: #f5f7f8;\"><td  style=\"text-align: start; background: #fff;\">0:5<td  style=\"text-align: start; background: #fff;\">guido</td><td  style=\"text-align: start; background: #fff;\"> </td><td  style=\"text-align: start; background: #fff;\">guido</td><td  style=\"text-align: start; background: #fff;\">0:5</td></tr><tr style=\"color: #000;\"><td  style=\" background: #f5f7f8;\"><td  style=\"text-align: start; background: #ffebe9;\">5:8<td  style=\"text-align: start; background: #ffd7d5;font-weight: bold; color: #700;\">van</td><td  style=\"text-align: start; background: #ffd7d5;font-weight: bold; color: #700;\">-</td><td  style=\"text-align: start; background: #f5f7f8;\"></td><td  style=\"text-align: start; background: #f5f7f8;\">5:5</td></tr><tr><td  style=\" background: #f5f7f8;\"></td></tr><tr><td colspan=\"11\"></td></tr></tbody></table>"
      ],
      "text/plain": [
       "'<table style=\"background: #f5f7f8; color: #000; width=100%; overflow-wrap: anywhere; text-align: start\">\\n    <thead><tr><th>idx1</th><th>seq1</th><th></th><th>seq2</th><th>idx2</th><th></th>\\n    <th></th><th>slice1</th><th></th><th>slice2</th><th></th></tr></thead><tbody><tr><td colspan=\"11\"></td></tr><tr style=\"color: #000;border-bottom: 1px solid #ddd; border-top: 1px solid #ddd; border-collapse: collapse;\"><td class=\"odd\" style=\"text-align: start; background: #ffebe9;\">0</td><td class=\"odd\" style=\"text-align: start; background: #ffd7d5;font-weight: bold; color: #700;\">bacon</td><td class=\"odd\" style=\"text-align: start; background: #ffd7d5;font-weight: bold; color: #700;\">&lt;</td><td class=\"odd\" style=\"text-align: start; background: #f5f7f8;\"></td><td class=\"odd\" style=\"text-align: start; background: #f5f7f8;\"></td><td  style=\" background: #f5f7f8;\"></td></tr><tr style=\"color: #000;border-bottom: 1px solid #ddd; border-top: 1px solid #ddd; border-collapse: collapse;\"><td  class=\"even\" style=\"text-align: start; background: #f5f7f8;\"></td><td  class=\"even\" style=\"text-align: start; background: #f5f7f8;\"></td><td  class=\"even\" style=\"text-align: start; background: #ccffd8;font-weight: bold; color: #040;\">&gt;</td><td  class=\"even\" style=\"text-align: start; background: #ccffd8;font-weight: bold; color: #040;\">python</td><td  class=\"even\" style=\"text-align: start; background: #e6ffec;\">0</td><td  style=\" background: #f5f7f8;\"></td></tr><tr style=\"color: #000;border-bottom: 1px solid #ddd; border-top: 1px solid #ddd; border-collapse: collapse;\"><td class=\"odd\" rowspan=\"4\" style=\"text-align: start; background: #ffebe9;\">1</td><td class=\"odd\" rowspan=\"4\" style=\"text-align: start; background: #ffebe9;\">eggs</td><td class=\"odd\" rowspan=\"4\" style=\"text-align: start; background: #f2e8ab;font-weight: bold; color: #330;\">|</td><td class=\"odd\" rowspan=\"4\" style=\"text-align: start; background: #e6ffec;\">eggy</td><td class=\"odd\" rowspan=\"4\" style=\"text-align: start; background: #e6ffec;\">1</td><td  style=\" background: #f5f7f8;\"></td></tr><tr style=\"color: #000;\"><td  style=\" background: #f5f7f8;\"><td  style=\"text-align: start; background: #fff;\">0:3<td  style=\"text-align: start; background: #fff;\">egg</td><td  style=\"text-align: start; background: #fff;\"> </td><td  style=\"text-align: start; background: #fff;\">egg</td><td  style=\"text-align: start; background: #fff;\">0:3</td></tr><tr style=\"color: #000;\"><td  style=\" background: #f5f7f8;\"><td  style=\"text-align: start; background: #ffebe9;\">3<td  style=\"text-align: start; background: #ffd7d5;font-weight: bold; color: #700;\">s</td><td  style=\"text-align: start; background: #f2e8ab;font-weight: bold; color: #330;\">!</td><td  style=\"text-align: start; background: #ccffd8;font-weight: bold; color: #040;\">y</td><td  style=\"text-align: start; background: #e6ffec;\">3</td></tr><tr><td  style=\" background: #f5f7f8;\"></td></tr><tr style=\"color: #000;border-bottom: 1px solid #ddd; border-top: 1px solid #ddd; border-collapse: collapse;\"><td  class=\"even\" rowspan=\"4\" style=\"text-align: start; background: #ffebe9;\">2</td><td  class=\"even\" rowspan=\"4\" style=\"text-align: start; background: #ffebe9;\">ham</td><td  class=\"even\" rowspan=\"4\" style=\"text-align: start; background: #f2e8ab;font-weight: bold; color: #330;\">|</td><td  class=\"even\" rowspan=\"4\" style=\"text-align: start; background: #e6ffec;\">hamster</td><td  class=\"even\" rowspan=\"4\" style=\"text-align: start; background: #e6ffec;\">2</td><td  style=\" background: #f5f7f8;\"></td></tr><tr style=\"color: #000;\"><td  style=\" background: #f5f7f8;\"><td  style=\"text-align: start; background: #fff;\">0:3<td  style=\"text-align: start; background: #fff;\">ham</td><td  style=\"text-align: start; background: #fff;\"> </td><td  style=\"text-align: start; background: #fff;\">ham</td><td  style=\"text-align: start; background: #fff;\">0:3</td></tr><tr style=\"color: #000;\"><td  style=\" background: #f5f7f8;\"><td  style=\"text-align: start; background: #f5f7f8;\">3:3<td  style=\"text-align: start; background: #f5f7f8;\"></td><td  style=\"text-align: start; background: #ccffd8;font-weight: bold; color: #040;\">+</td><td  style=\"text-align: start; background: #ccffd8;font-weight: bold; color: #040;\">ster</td><td  style=\"text-align: start; background: #e6ffec;\">3:7</td></tr><tr><td  style=\" background: #f5f7f8;\"></td></tr><tr style=\"color: #000;border-bottom: 1px solid #ddd; border-top: 1px solid #ddd; border-collapse: collapse;\"><td class=\"odd\" rowspan=\"4\" style=\"text-align: start; background: #ffebe9;\">3</td><td class=\"odd\" rowspan=\"4\" style=\"text-align: start; background: #ffebe9;\">guidovan</td><td class=\"odd\" rowspan=\"4\" style=\"text-align: start; background: #f2e8ab;font-weight: bold; color: #330;\">|</td><td class=\"odd\" rowspan=\"4\" style=\"text-align: start; background: #e6ffec;\">guido</td><td class=\"odd\" rowspan=\"4\" style=\"text-align: start; background: #e6ffec;\">3</td><td  style=\" background: #f5f7f8;\"></td></tr><tr style=\"color: #000;\"><td  style=\" background: #f5f7f8;\"><td  style=\"text-align: start; background: #fff;\">0:5<td  style=\"text-align: start; background: #fff;\">guido</td><td  style=\"text-align: start; background: #fff;\"> </td><td  style=\"text-align: start; background: #fff;\">guido</td><td  style=\"text-align: start; background: #fff;\">0:5</td></tr><tr style=\"color: #000;\"><td  style=\" background: #f5f7f8;\"><td  style=\"text-align: start; background: #ffebe9;\">5:8<td  style=\"text-align: start; background: #ffd7d5;font-weight: bold; color: #700;\">van</td><td  style=\"text-align: start; background: #ffd7d5;font-weight: bold; color: #700;\">-</td><td  style=\"text-align: start; background: #f5f7f8;\"></td><td  style=\"text-align: start; background: #f5f7f8;\">5:5</td></tr><tr><td  style=\" background: #f5f7f8;\"></td></tr><tr><td colspan=\"11\"></td></tr></tbody></table>'"
      ]
     },
     "execution_count": 10,
     "metadata": {},
     "output_type": "execute_result"
    }
   ],
   "source": [
    "uxdiff.tabulate(uxdiff.Differ(cutoff=0.5).compare(\n",
    "    [\"bacon\", \"eggs\", \"ham\", \"guidovan\"],\n",
    "    [\"python\", \"eggy\", \"hamster\", \"guido\"]\n",
    "))"
   ]
  },
  {
   "cell_type": "code",
   "execution_count": 11,
   "metadata": {},
   "outputs": [
    {
     "data": {
      "text/html": [
       "<table style=\"background: #f5f7f8; color: #000; width=100%; overflow-wrap: anywhere; text-align: start\">\n",
       "    <thead><tr><th>idx1</th><th>seq1</th><th></th><th>seq2</th><th>idx2</th><th></th>\n",
       "    <th></th><th>slice1</th><th></th><th>slice2</th><th></th></tr></thead><tbody><tr><td colspan=\"11\" style=\"text-align: center; background: #E0F4FE;\">...</td></tr><tr><td colspan=\"11\"></td></tr><tr style=\"color: #000;border-bottom: 1px solid #ddd; border-top: 1px solid #ddd; border-collapse: collapse;\"><td  class=\"even\" style=\"text-align: start; background: #fff;\">7</td><td  class=\"even\" style=\"text-align: start; background: #fff;\">certain</td><td  class=\"even\" style=\"text-align: start; background: #fff;\"> </td><td  class=\"even\" style=\"text-align: start; background: #fff;\">certain</td><td  class=\"even\" style=\"text-align: start; background: #fff;\">7</td><td  style=\" background: #f5f7f8;\"></td></tr><tr><td colspan=\"11\"></td></tr><tr><td colspan=\"11\"></td></tr><tr style=\"color: #000;border-bottom: 1px solid #ddd; border-top: 1px solid #ddd; border-collapse: collapse;\"><td class=\"odd\" style=\"text-align: start; background: #ffebe9;\">8</td><td class=\"odd\" style=\"text-align: start; background: #ffd7d5;font-weight: bold; color: #700;\">amount</td><td class=\"odd\" style=\"text-align: start; background: #ffd7d5;font-weight: bold; color: #700;\">&lt;</td><td class=\"odd\" style=\"text-align: start; background: #f5f7f8;\"></td><td class=\"odd\" style=\"text-align: start; background: #f5f7f8;\"></td><td  style=\" background: #f5f7f8;\"></td></tr><tr style=\"color: #000;border-bottom: 1px solid #ddd; border-top: 1px solid #ddd; border-collapse: collapse;\"><td  class=\"even\" style=\"text-align: start; background: #f5f7f8;\"></td><td  class=\"even\" style=\"text-align: start; background: #f5f7f8;\"></td><td  class=\"even\" style=\"text-align: start; background: #ccffd8;font-weight: bold; color: #040;\">&gt;</td><td  class=\"even\" style=\"text-align: start; background: #ccffd8;font-weight: bold; color: #040;\">period</td><td  class=\"even\" style=\"text-align: start; background: #e6ffec;\">8</td><td  style=\" background: #f5f7f8;\"></td></tr><tr><td colspan=\"11\"></td></tr><tr><td colspan=\"11\"></td></tr><tr style=\"color: #000;border-bottom: 1px solid #ddd; border-top: 1px solid #ddd; border-collapse: collapse;\"><td class=\"odd\" style=\"text-align: start; background: #fff;\">9</td><td class=\"odd\" style=\"text-align: start; background: #fff;\">of</td><td class=\"odd\" style=\"text-align: start; background: #fff;\"> </td><td class=\"odd\" style=\"text-align: start; background: #fff;\">of</td><td class=\"odd\" style=\"text-align: start; background: #fff;\">9</td><td  style=\" background: #f5f7f8;\"></td></tr><tr><td colspan=\"11\"></td></tr><tr><td colspan=\"11\" style=\"text-align: center; background: #E0F4FE;\">...</td></tr><tr><td colspan=\"11\"></td></tr><tr style=\"color: #000;border-bottom: 1px solid #ddd; border-top: 1px solid #ddd; border-collapse: collapse;\"><td class=\"odd\" style=\"text-align: start; background: #fff;\">12</td><td class=\"odd\" style=\"text-align: start; background: #fff;\">will</td><td class=\"odd\" style=\"text-align: start; background: #fff;\"> </td><td class=\"odd\" style=\"text-align: start; background: #fff;\">will</td><td class=\"odd\" style=\"text-align: start; background: #fff;\">12</td><td  style=\" background: #f5f7f8;\"></td></tr><tr><td colspan=\"11\"></td></tr><tr><td colspan=\"11\"></td></tr><tr style=\"color: #000;border-bottom: 1px solid #ddd; border-top: 1px solid #ddd; border-collapse: collapse;\"><td  class=\"even\" style=\"text-align: start; background: #ffebe9;\">13</td><td  class=\"even\" style=\"text-align: start; background: #ffd7d5;font-weight: bold; color: #700;\">be</td><td  class=\"even\" style=\"text-align: start; background: #ffd7d5;font-weight: bold; color: #700;\">&lt;</td><td  class=\"even\" style=\"text-align: start; background: #f5f7f8;\"></td><td  class=\"even\" style=\"text-align: start; background: #f5f7f8;\"></td><td  style=\" background: #f5f7f8;\"></td></tr><tr style=\"color: #000;border-bottom: 1px solid #ddd; border-top: 1px solid #ddd; border-collapse: collapse;\"><td class=\"odd\" rowspan=\"4\" style=\"text-align: start; background: #ffebe9;\">14</td><td class=\"odd\" rowspan=\"4\" style=\"text-align: start; background: #ffebe9;\">omitted</td><td class=\"odd\" rowspan=\"4\" style=\"text-align: start; background: #f2e8ab;font-weight: bold; color: #330;\">|</td><td class=\"odd\" rowspan=\"4\" style=\"text-align: start; background: #e6ffec;\">omit</td><td class=\"odd\" rowspan=\"4\" style=\"text-align: start; background: #e6ffec;\">13</td><td  style=\" background: #f5f7f8;\"></td></tr><tr style=\"color: #000;\"><td  style=\" background: #f5f7f8;\"><td  style=\"text-align: start; background: #fff;\">0:4<td  style=\"text-align: start; background: #fff;\">omit</td><td  style=\"text-align: start; background: #fff;\"> </td><td  style=\"text-align: start; background: #fff;\">omit</td><td  style=\"text-align: start; background: #fff;\">0:4</td></tr><tr style=\"color: #000;\"><td  style=\" background: #f5f7f8;\"><td  style=\"text-align: start; background: #ffebe9;\">4:7<td  style=\"text-align: start; background: #ffd7d5;font-weight: bold; color: #700;\">ted</td><td  style=\"text-align: start; background: #ffd7d5;font-weight: bold; color: #700;\">-</td><td  style=\"text-align: start; background: #f5f7f8;\"></td><td  style=\"text-align: start; background: #f5f7f8;\">4:4</td></tr><tr><td  style=\" background: #f5f7f8;\"></td></tr><tr style=\"color: #000;border-bottom: 1px solid #ddd; border-top: 1px solid #ddd; border-collapse: collapse;\"><td  class=\"even\" style=\"text-align: start; background: #f5f7f8;\"></td><td  class=\"even\" style=\"text-align: start; background: #f5f7f8;\"></td><td  class=\"even\" style=\"text-align: start; background: #ccffd8;font-weight: bold; color: #040;\">&gt;</td><td  class=\"even\" style=\"text-align: start; background: #ccffd8;font-weight: bold; color: #040;\">it</td><td  class=\"even\" style=\"text-align: start; background: #e6ffec;\">14</td><td  style=\" background: #f5f7f8;\"></td></tr><tr><td colspan=\"11\"></td></tr><tr><td colspan=\"11\"></td></tr><tr style=\"color: #000;border-bottom: 1px solid #ddd; border-top: 1px solid #ddd; border-collapse: collapse;\"><td class=\"odd\" style=\"text-align: start; background: #fff;\">15</td><td class=\"odd\" style=\"text-align: start; background: #fff;\">as</td><td class=\"odd\" style=\"text-align: start; background: #fff;\"> </td><td class=\"odd\" style=\"text-align: start; background: #fff;\">as</td><td class=\"odd\" style=\"text-align: start; background: #fff;\">15</td><td  style=\" background: #f5f7f8;\"></td></tr><tr><td colspan=\"11\"></td></tr><tr><td colspan=\"11\" style=\"text-align: center; background: #E0F4FE;\">...</td></tr></tbody></table>"
      ],
      "text/plain": [
       "'<table style=\"background: #f5f7f8; color: #000; width=100%; overflow-wrap: anywhere; text-align: start\">\\n    <thead><tr><th>idx1</th><th>seq1</th><th></th><th>seq2</th><th>idx2</th><th></th>\\n    <th></th><th>slice1</th><th></th><th>slice2</th><th></th></tr></thead><tbody><tr><td colspan=\"11\" style=\"text-align: center; background: #E0F4FE;\">...</td></tr><tr><td colspan=\"11\"></td></tr><tr style=\"color: #000;border-bottom: 1px solid #ddd; border-top: 1px solid #ddd; border-collapse: collapse;\"><td  class=\"even\" style=\"text-align: start; background: #fff;\">7</td><td  class=\"even\" style=\"text-align: start; background: #fff;\">certain</td><td  class=\"even\" style=\"text-align: start; background: #fff;\"> </td><td  class=\"even\" style=\"text-align: start; background: #fff;\">certain</td><td  class=\"even\" style=\"text-align: start; background: #fff;\">7</td><td  style=\" background: #f5f7f8;\"></td></tr><tr><td colspan=\"11\"></td></tr><tr><td colspan=\"11\"></td></tr><tr style=\"color: #000;border-bottom: 1px solid #ddd; border-top: 1px solid #ddd; border-collapse: collapse;\"><td class=\"odd\" style=\"text-align: start; background: #ffebe9;\">8</td><td class=\"odd\" style=\"text-align: start; background: #ffd7d5;font-weight: bold; color: #700;\">amount</td><td class=\"odd\" style=\"text-align: start; background: #ffd7d5;font-weight: bold; color: #700;\">&lt;</td><td class=\"odd\" style=\"text-align: start; background: #f5f7f8;\"></td><td class=\"odd\" style=\"text-align: start; background: #f5f7f8;\"></td><td  style=\" background: #f5f7f8;\"></td></tr><tr style=\"color: #000;border-bottom: 1px solid #ddd; border-top: 1px solid #ddd; border-collapse: collapse;\"><td  class=\"even\" style=\"text-align: start; background: #f5f7f8;\"></td><td  class=\"even\" style=\"text-align: start; background: #f5f7f8;\"></td><td  class=\"even\" style=\"text-align: start; background: #ccffd8;font-weight: bold; color: #040;\">&gt;</td><td  class=\"even\" style=\"text-align: start; background: #ccffd8;font-weight: bold; color: #040;\">period</td><td  class=\"even\" style=\"text-align: start; background: #e6ffec;\">8</td><td  style=\" background: #f5f7f8;\"></td></tr><tr><td colspan=\"11\"></td></tr><tr><td colspan=\"11\"></td></tr><tr style=\"color: #000;border-bottom: 1px solid #ddd; border-top: 1px solid #ddd; border-collapse: collapse;\"><td class=\"odd\" style=\"text-align: start; background: #fff;\">9</td><td class=\"odd\" style=\"text-align: start; background: #fff;\">of</td><td class=\"odd\" style=\"text-align: start; background: #fff;\"> </td><td class=\"odd\" style=\"text-align: start; background: #fff;\">of</td><td class=\"odd\" style=\"text-align: start; background: #fff;\">9</td><td  style=\" background: #f5f7f8;\"></td></tr><tr><td colspan=\"11\"></td></tr><tr><td colspan=\"11\" style=\"text-align: center; background: #E0F4FE;\">...</td></tr><tr><td colspan=\"11\"></td></tr><tr style=\"color: #000;border-bottom: 1px solid #ddd; border-top: 1px solid #ddd; border-collapse: collapse;\"><td class=\"odd\" style=\"text-align: start; background: #fff;\">12</td><td class=\"odd\" style=\"text-align: start; background: #fff;\">will</td><td class=\"odd\" style=\"text-align: start; background: #fff;\"> </td><td class=\"odd\" style=\"text-align: start; background: #fff;\">will</td><td class=\"odd\" style=\"text-align: start; background: #fff;\">12</td><td  style=\" background: #f5f7f8;\"></td></tr><tr><td colspan=\"11\"></td></tr><tr><td colspan=\"11\"></td></tr><tr style=\"color: #000;border-bottom: 1px solid #ddd; border-top: 1px solid #ddd; border-collapse: collapse;\"><td  class=\"even\" style=\"text-align: start; background: #ffebe9;\">13</td><td  class=\"even\" style=\"text-align: start; background: #ffd7d5;font-weight: bold; color: #700;\">be</td><td  class=\"even\" style=\"text-align: start; background: #ffd7d5;font-weight: bold; color: #700;\">&lt;</td><td  class=\"even\" style=\"text-align: start; background: #f5f7f8;\"></td><td  class=\"even\" style=\"text-align: start; background: #f5f7f8;\"></td><td  style=\" background: #f5f7f8;\"></td></tr><tr style=\"color: #000;border-bottom: 1px solid #ddd; border-top: 1px solid #ddd; border-collapse: collapse;\"><td class=\"odd\" rowspan=\"4\" style=\"text-align: start; background: #ffebe9;\">14</td><td class=\"odd\" rowspan=\"4\" style=\"text-align: start; background: #ffebe9;\">omitted</td><td class=\"odd\" rowspan=\"4\" style=\"text-align: start; background: #f2e8ab;font-weight: bold; color: #330;\">|</td><td class=\"odd\" rowspan=\"4\" style=\"text-align: start; background: #e6ffec;\">omit</td><td class=\"odd\" rowspan=\"4\" style=\"text-align: start; background: #e6ffec;\">13</td><td  style=\" background: #f5f7f8;\"></td></tr><tr style=\"color: #000;\"><td  style=\" background: #f5f7f8;\"><td  style=\"text-align: start; background: #fff;\">0:4<td  style=\"text-align: start; background: #fff;\">omit</td><td  style=\"text-align: start; background: #fff;\"> </td><td  style=\"text-align: start; background: #fff;\">omit</td><td  style=\"text-align: start; background: #fff;\">0:4</td></tr><tr style=\"color: #000;\"><td  style=\" background: #f5f7f8;\"><td  style=\"text-align: start; background: #ffebe9;\">4:7<td  style=\"text-align: start; background: #ffd7d5;font-weight: bold; color: #700;\">ted</td><td  style=\"text-align: start; background: #ffd7d5;font-weight: bold; color: #700;\">-</td><td  style=\"text-align: start; background: #f5f7f8;\"></td><td  style=\"text-align: start; background: #f5f7f8;\">4:4</td></tr><tr><td  style=\" background: #f5f7f8;\"></td></tr><tr style=\"color: #000;border-bottom: 1px solid #ddd; border-top: 1px solid #ddd; border-collapse: collapse;\"><td  class=\"even\" style=\"text-align: start; background: #f5f7f8;\"></td><td  class=\"even\" style=\"text-align: start; background: #f5f7f8;\"></td><td  class=\"even\" style=\"text-align: start; background: #ccffd8;font-weight: bold; color: #040;\">&gt;</td><td  class=\"even\" style=\"text-align: start; background: #ccffd8;font-weight: bold; color: #040;\">it</td><td  class=\"even\" style=\"text-align: start; background: #e6ffec;\">14</td><td  style=\" background: #f5f7f8;\"></td></tr><tr><td colspan=\"11\"></td></tr><tr><td colspan=\"11\"></td></tr><tr style=\"color: #000;border-bottom: 1px solid #ddd; border-top: 1px solid #ddd; border-collapse: collapse;\"><td class=\"odd\" style=\"text-align: start; background: #fff;\">15</td><td class=\"odd\" style=\"text-align: start; background: #fff;\">as</td><td class=\"odd\" style=\"text-align: start; background: #fff;\"> </td><td class=\"odd\" style=\"text-align: start; background: #fff;\">as</td><td class=\"odd\" style=\"text-align: start; background: #fff;\">15</td><td  style=\" background: #f5f7f8;\"></td></tr><tr><td colspan=\"11\"></td></tr><tr><td colspan=\"11\" style=\"text-align: center; background: #E0F4FE;\">...</td></tr></tbody></table>'"
      ]
     },
     "execution_count": 11,
     "metadata": {},
     "output_type": "execute_result"
    }
   ],
   "source": [
    "uxdiff.tabulate(uxdiff.Differ(cutoff=0.5, context=1).compare(\n",
    "    \"If the same content continues for a certain amount of time, it will be omitted as appropriate.\".split(),\n",
    "    \"If the same content continues for a certain period of time, it will omit it as appropriate.\".split()\n",
    "))"
   ]
  },
  {
   "cell_type": "code",
   "execution_count": 12,
   "metadata": {},
   "outputs": [],
   "source": [
    "seq1 = [\n",
    "    (\"M27AZ9VW\", \"01\", 1),\n",
    "    (\"7AMJ6KBEJ\", \"01\", 50),\n",
    "    (\"7AMJ6KBEJ\", \"01\", 200),\n",
    "    (\"7AMJ6KBEJ\", \"02\", 300),\n",
    "    (\"M27AZ9VW\", \"01\", 400),\n",
    "    (\"AME4BRWJ\", \"01\", 500),\n",
    "]\n",
    "seq2 = [\n",
    "    ('AME4BRWJ', \"10\", 500),\n",
    "    (\"M27AZ9VW\", \"01\", 400),\n",
    "    (\"7AMJ6KBEJ\", \"01\", 345),\n",
    "    (\"7AMJ6KBEJ\", \"01\", 150),\n",
    "    (\"XXXXXXXX\", \"8\", 888),\n",
    "    (\"XXXXXXXX\", \"99\", 9999),\n",
    "]\n",
    "seq1.sort()\n",
    "seq2.sort()"
   ]
  },
  {
   "cell_type": "code",
   "execution_count": 13,
   "metadata": {},
   "outputs": [
    {
     "data": {
      "text/html": [
       "<table style=\"background: #f5f7f8; color: #000; width=100%; overflow-wrap: anywhere; text-align: start\">\n",
       "    <thead><tr><th>idx1</th><th>seq1</th><th></th><th>seq2</th><th>idx2</th><th></th>\n",
       "    <th></th><th>slice1</th><th></th><th>slice2</th><th></th></tr></thead><tbody><tr><td colspan=\"11\"></td></tr><tr style=\"color: #000;border-bottom: 1px solid #ddd; border-top: 1px solid #ddd; border-collapse: collapse;\"><td class=\"odd\" rowspan=\"4\" style=\"text-align: start; background: #ffebe9;\">0</td><td class=\"odd\" rowspan=\"4\" style=\"text-align: start; background: #ffebe9;\">('7AMJ6KBEJ', '01', 50)</td><td class=\"odd\" rowspan=\"4\" style=\"text-align: start; background: #f2e8ab;font-weight: bold; color: #330;\">|</td><td class=\"odd\" rowspan=\"4\" style=\"text-align: start; background: #e6ffec;\">('7AMJ6KBEJ', '01', 150)</td><td class=\"odd\" rowspan=\"4\" style=\"text-align: start; background: #e6ffec;\">0</td><td  style=\" background: #f5f7f8;\"></td></tr><tr style=\"color: #000;\"><td  style=\" background: #f5f7f8;\"><td  style=\"text-align: start; background: #fff;\">0:2<td  style=\"text-align: start; background: #fff;\">('7AMJ6KBEJ', '01')</td><td  style=\"text-align: start; background: #fff;\"> </td><td  style=\"text-align: start; background: #fff;\">('7AMJ6KBEJ', '01')</td><td  style=\"text-align: start; background: #fff;\">0:2</td></tr><tr style=\"color: #000;\"><td  style=\" background: #f5f7f8;\"><td  style=\"text-align: start; background: #ffebe9;\">2<td  style=\"text-align: start; background: #ffd7d5;font-weight: bold; color: #700;\">(50,)</td><td  style=\"text-align: start; background: #f2e8ab;font-weight: bold; color: #330;\">!</td><td  style=\"text-align: start; background: #ccffd8;font-weight: bold; color: #040;\">(150,)</td><td  style=\"text-align: start; background: #e6ffec;\">2</td></tr><tr><td  style=\" background: #f5f7f8;\"></td></tr><tr style=\"color: #000;border-bottom: 1px solid #ddd; border-top: 1px solid #ddd; border-collapse: collapse;\"><td  class=\"even\" rowspan=\"4\" style=\"text-align: start; background: #ffebe9;\">1</td><td  class=\"even\" rowspan=\"4\" style=\"text-align: start; background: #ffebe9;\">('7AMJ6KBEJ', '01', 200)</td><td  class=\"even\" rowspan=\"4\" style=\"text-align: start; background: #f2e8ab;font-weight: bold; color: #330;\">|</td><td  class=\"even\" rowspan=\"4\" style=\"text-align: start; background: #e6ffec;\">('7AMJ6KBEJ', '01', 345)</td><td  class=\"even\" rowspan=\"4\" style=\"text-align: start; background: #e6ffec;\">1</td><td  style=\" background: #f5f7f8;\"></td></tr><tr style=\"color: #000;\"><td  style=\" background: #f5f7f8;\"><td  style=\"text-align: start; background: #fff;\">0:2<td  style=\"text-align: start; background: #fff;\">('7AMJ6KBEJ', '01')</td><td  style=\"text-align: start; background: #fff;\"> </td><td  style=\"text-align: start; background: #fff;\">('7AMJ6KBEJ', '01')</td><td  style=\"text-align: start; background: #fff;\">0:2</td></tr><tr style=\"color: #000;\"><td  style=\" background: #f5f7f8;\"><td  style=\"text-align: start; background: #ffebe9;\">2<td  style=\"text-align: start; background: #ffd7d5;font-weight: bold; color: #700;\">(200,)</td><td  style=\"text-align: start; background: #f2e8ab;font-weight: bold; color: #330;\">!</td><td  style=\"text-align: start; background: #ccffd8;font-weight: bold; color: #040;\">(345,)</td><td  style=\"text-align: start; background: #e6ffec;\">2</td></tr><tr><td  style=\" background: #f5f7f8;\"></td></tr><tr style=\"color: #000;border-bottom: 1px solid #ddd; border-top: 1px solid #ddd; border-collapse: collapse;\"><td class=\"odd\" style=\"text-align: start; background: #ffebe9;\">2</td><td class=\"odd\" style=\"text-align: start; background: #ffd7d5;font-weight: bold; color: #700;\">('7AMJ6KBEJ', '02', 300)</td><td class=\"odd\" style=\"text-align: start; background: #ffd7d5;font-weight: bold; color: #700;\">&lt;</td><td class=\"odd\" style=\"text-align: start; background: #f5f7f8;\"></td><td class=\"odd\" style=\"text-align: start; background: #f5f7f8;\"></td><td  style=\" background: #f5f7f8;\"></td></tr><tr style=\"color: #000;border-bottom: 1px solid #ddd; border-top: 1px solid #ddd; border-collapse: collapse;\"><td  class=\"even\" rowspan=\"5\" style=\"text-align: start; background: #ffebe9;\">3</td><td  class=\"even\" rowspan=\"5\" style=\"text-align: start; background: #ffebe9;\">('AME4BRWJ', '01', 500)</td><td  class=\"even\" rowspan=\"5\" style=\"text-align: start; background: #f2e8ab;font-weight: bold; color: #330;\">|</td><td  class=\"even\" rowspan=\"5\" style=\"text-align: start; background: #e6ffec;\">('AME4BRWJ', '10', 500)</td><td  class=\"even\" rowspan=\"5\" style=\"text-align: start; background: #e6ffec;\">2</td><td  style=\" background: #f5f7f8;\"></td></tr><tr style=\"color: #000;\"><td  style=\" background: #f5f7f8;\"><td  style=\"text-align: start; background: #fff;\">0<td  style=\"text-align: start; background: #fff;\">('AME4BRWJ',)</td><td  style=\"text-align: start; background: #fff;\"> </td><td  style=\"text-align: start; background: #fff;\">('AME4BRWJ',)</td><td  style=\"text-align: start; background: #fff;\">0</td></tr><tr style=\"color: #000;\"><td  style=\" background: #f5f7f8;\"><td  style=\"text-align: start; background: #ffebe9;\">1<td  style=\"text-align: start; background: #ffd7d5;font-weight: bold; color: #700;\">('01',)</td><td  style=\"text-align: start; background: #f2e8ab;font-weight: bold; color: #330;\">!</td><td  style=\"text-align: start; background: #ccffd8;font-weight: bold; color: #040;\">('10',)</td><td  style=\"text-align: start; background: #e6ffec;\">1</td></tr><tr style=\"color: #000;\"><td  style=\" background: #f5f7f8;\"><td  style=\"text-align: start; background: #fff;\">2<td  style=\"text-align: start; background: #fff;\">(500,)</td><td  style=\"text-align: start; background: #fff;\"> </td><td  style=\"text-align: start; background: #fff;\">(500,)</td><td  style=\"text-align: start; background: #fff;\">2</td></tr><tr><td  style=\" background: #f5f7f8;\"></td></tr><tr style=\"color: #000;border-bottom: 1px solid #ddd; border-top: 1px solid #ddd; border-collapse: collapse;\"><td class=\"odd\" style=\"text-align: start; background: #ffebe9;\">4</td><td class=\"odd\" style=\"text-align: start; background: #ffd7d5;font-weight: bold; color: #700;\">('M27AZ9VW', '01', 1)</td><td class=\"odd\" style=\"text-align: start; background: #ffd7d5;font-weight: bold; color: #700;\">&lt;</td><td class=\"odd\" style=\"text-align: start; background: #f5f7f8;\"></td><td class=\"odd\" style=\"text-align: start; background: #f5f7f8;\"></td><td  style=\" background: #f5f7f8;\"></td></tr><tr><td colspan=\"11\"></td></tr><tr><td colspan=\"11\"></td></tr><tr style=\"color: #000;border-bottom: 1px solid #ddd; border-top: 1px solid #ddd; border-collapse: collapse;\"><td  class=\"even\" style=\"text-align: start; background: #fff;\">5</td><td  class=\"even\" style=\"text-align: start; background: #fff;\">('M27AZ9VW', '01', 400)</td><td  class=\"even\" style=\"text-align: start; background: #fff;\"> </td><td  class=\"even\" style=\"text-align: start; background: #fff;\">('M27AZ9VW', '01', 400)</td><td  class=\"even\" style=\"text-align: start; background: #fff;\">3</td><td  style=\" background: #f5f7f8;\"></td></tr><tr><td colspan=\"11\"></td></tr><tr><td colspan=\"11\"></td></tr><tr style=\"color: #000;border-bottom: 1px solid #ddd; border-top: 1px solid #ddd; border-collapse: collapse;\"><td class=\"odd\" style=\"text-align: start; background: #f5f7f8;\"></td><td class=\"odd\" style=\"text-align: start; background: #f5f7f8;\"></td><td class=\"odd\" style=\"text-align: start; background: #ccffd8;font-weight: bold; color: #040;\">&gt;</td><td class=\"odd\" style=\"text-align: start; background: #ccffd8;font-weight: bold; color: #040;\">('XXXXXXXX', '8', 888)</td><td class=\"odd\" style=\"text-align: start; background: #e6ffec;\">4</td><td  style=\" background: #f5f7f8;\"></td></tr><tr style=\"color: #000;border-bottom: 1px solid #ddd; border-top: 1px solid #ddd; border-collapse: collapse;\"><td  class=\"even\" style=\"text-align: start; background: #f5f7f8;\"></td><td  class=\"even\" style=\"text-align: start; background: #f5f7f8;\"></td><td  class=\"even\" style=\"text-align: start; background: #ccffd8;font-weight: bold; color: #040;\">&gt;</td><td  class=\"even\" style=\"text-align: start; background: #ccffd8;font-weight: bold; color: #040;\">('XXXXXXXX', '99', 9999)</td><td  class=\"even\" style=\"text-align: start; background: #e6ffec;\">5</td><td  style=\" background: #f5f7f8;\"></td></tr><tr><td colspan=\"11\"></td></tr></tbody></table>"
      ],
      "text/plain": [
       "'<table style=\"background: #f5f7f8; color: #000; width=100%; overflow-wrap: anywhere; text-align: start\">\\n    <thead><tr><th>idx1</th><th>seq1</th><th></th><th>seq2</th><th>idx2</th><th></th>\\n    <th></th><th>slice1</th><th></th><th>slice2</th><th></th></tr></thead><tbody><tr><td colspan=\"11\"></td></tr><tr style=\"color: #000;border-bottom: 1px solid #ddd; border-top: 1px solid #ddd; border-collapse: collapse;\"><td class=\"odd\" rowspan=\"4\" style=\"text-align: start; background: #ffebe9;\">0</td><td class=\"odd\" rowspan=\"4\" style=\"text-align: start; background: #ffebe9;\">(\\'7AMJ6KBEJ\\', \\'01\\', 50)</td><td class=\"odd\" rowspan=\"4\" style=\"text-align: start; background: #f2e8ab;font-weight: bold; color: #330;\">|</td><td class=\"odd\" rowspan=\"4\" style=\"text-align: start; background: #e6ffec;\">(\\'7AMJ6KBEJ\\', \\'01\\', 150)</td><td class=\"odd\" rowspan=\"4\" style=\"text-align: start; background: #e6ffec;\">0</td><td  style=\" background: #f5f7f8;\"></td></tr><tr style=\"color: #000;\"><td  style=\" background: #f5f7f8;\"><td  style=\"text-align: start; background: #fff;\">0:2<td  style=\"text-align: start; background: #fff;\">(\\'7AMJ6KBEJ\\', \\'01\\')</td><td  style=\"text-align: start; background: #fff;\"> </td><td  style=\"text-align: start; background: #fff;\">(\\'7AMJ6KBEJ\\', \\'01\\')</td><td  style=\"text-align: start; background: #fff;\">0:2</td></tr><tr style=\"color: #000;\"><td  style=\" background: #f5f7f8;\"><td  style=\"text-align: start; background: #ffebe9;\">2<td  style=\"text-align: start; background: #ffd7d5;font-weight: bold; color: #700;\">(50,)</td><td  style=\"text-align: start; background: #f2e8ab;font-weight: bold; color: #330;\">!</td><td  style=\"text-align: start; background: #ccffd8;font-weight: bold; color: #040;\">(150,)</td><td  style=\"text-align: start; background: #e6ffec;\">2</td></tr><tr><td  style=\" background: #f5f7f8;\"></td></tr><tr style=\"color: #000;border-bottom: 1px solid #ddd; border-top: 1px solid #ddd; border-collapse: collapse;\"><td  class=\"even\" rowspan=\"4\" style=\"text-align: start; background: #ffebe9;\">1</td><td  class=\"even\" rowspan=\"4\" style=\"text-align: start; background: #ffebe9;\">(\\'7AMJ6KBEJ\\', \\'01\\', 200)</td><td  class=\"even\" rowspan=\"4\" style=\"text-align: start; background: #f2e8ab;font-weight: bold; color: #330;\">|</td><td  class=\"even\" rowspan=\"4\" style=\"text-align: start; background: #e6ffec;\">(\\'7AMJ6KBEJ\\', \\'01\\', 345)</td><td  class=\"even\" rowspan=\"4\" style=\"text-align: start; background: #e6ffec;\">1</td><td  style=\" background: #f5f7f8;\"></td></tr><tr style=\"color: #000;\"><td  style=\" background: #f5f7f8;\"><td  style=\"text-align: start; background: #fff;\">0:2<td  style=\"text-align: start; background: #fff;\">(\\'7AMJ6KBEJ\\', \\'01\\')</td><td  style=\"text-align: start; background: #fff;\"> </td><td  style=\"text-align: start; background: #fff;\">(\\'7AMJ6KBEJ\\', \\'01\\')</td><td  style=\"text-align: start; background: #fff;\">0:2</td></tr><tr style=\"color: #000;\"><td  style=\" background: #f5f7f8;\"><td  style=\"text-align: start; background: #ffebe9;\">2<td  style=\"text-align: start; background: #ffd7d5;font-weight: bold; color: #700;\">(200,)</td><td  style=\"text-align: start; background: #f2e8ab;font-weight: bold; color: #330;\">!</td><td  style=\"text-align: start; background: #ccffd8;font-weight: bold; color: #040;\">(345,)</td><td  style=\"text-align: start; background: #e6ffec;\">2</td></tr><tr><td  style=\" background: #f5f7f8;\"></td></tr><tr style=\"color: #000;border-bottom: 1px solid #ddd; border-top: 1px solid #ddd; border-collapse: collapse;\"><td class=\"odd\" style=\"text-align: start; background: #ffebe9;\">2</td><td class=\"odd\" style=\"text-align: start; background: #ffd7d5;font-weight: bold; color: #700;\">(\\'7AMJ6KBEJ\\', \\'02\\', 300)</td><td class=\"odd\" style=\"text-align: start; background: #ffd7d5;font-weight: bold; color: #700;\">&lt;</td><td class=\"odd\" style=\"text-align: start; background: #f5f7f8;\"></td><td class=\"odd\" style=\"text-align: start; background: #f5f7f8;\"></td><td  style=\" background: #f5f7f8;\"></td></tr><tr style=\"color: #000;border-bottom: 1px solid #ddd; border-top: 1px solid #ddd; border-collapse: collapse;\"><td  class=\"even\" rowspan=\"5\" style=\"text-align: start; background: #ffebe9;\">3</td><td  class=\"even\" rowspan=\"5\" style=\"text-align: start; background: #ffebe9;\">(\\'AME4BRWJ\\', \\'01\\', 500)</td><td  class=\"even\" rowspan=\"5\" style=\"text-align: start; background: #f2e8ab;font-weight: bold; color: #330;\">|</td><td  class=\"even\" rowspan=\"5\" style=\"text-align: start; background: #e6ffec;\">(\\'AME4BRWJ\\', \\'10\\', 500)</td><td  class=\"even\" rowspan=\"5\" style=\"text-align: start; background: #e6ffec;\">2</td><td  style=\" background: #f5f7f8;\"></td></tr><tr style=\"color: #000;\"><td  style=\" background: #f5f7f8;\"><td  style=\"text-align: start; background: #fff;\">0<td  style=\"text-align: start; background: #fff;\">(\\'AME4BRWJ\\',)</td><td  style=\"text-align: start; background: #fff;\"> </td><td  style=\"text-align: start; background: #fff;\">(\\'AME4BRWJ\\',)</td><td  style=\"text-align: start; background: #fff;\">0</td></tr><tr style=\"color: #000;\"><td  style=\" background: #f5f7f8;\"><td  style=\"text-align: start; background: #ffebe9;\">1<td  style=\"text-align: start; background: #ffd7d5;font-weight: bold; color: #700;\">(\\'01\\',)</td><td  style=\"text-align: start; background: #f2e8ab;font-weight: bold; color: #330;\">!</td><td  style=\"text-align: start; background: #ccffd8;font-weight: bold; color: #040;\">(\\'10\\',)</td><td  style=\"text-align: start; background: #e6ffec;\">1</td></tr><tr style=\"color: #000;\"><td  style=\" background: #f5f7f8;\"><td  style=\"text-align: start; background: #fff;\">2<td  style=\"text-align: start; background: #fff;\">(500,)</td><td  style=\"text-align: start; background: #fff;\"> </td><td  style=\"text-align: start; background: #fff;\">(500,)</td><td  style=\"text-align: start; background: #fff;\">2</td></tr><tr><td  style=\" background: #f5f7f8;\"></td></tr><tr style=\"color: #000;border-bottom: 1px solid #ddd; border-top: 1px solid #ddd; border-collapse: collapse;\"><td class=\"odd\" style=\"text-align: start; background: #ffebe9;\">4</td><td class=\"odd\" style=\"text-align: start; background: #ffd7d5;font-weight: bold; color: #700;\">(\\'M27AZ9VW\\', \\'01\\', 1)</td><td class=\"odd\" style=\"text-align: start; background: #ffd7d5;font-weight: bold; color: #700;\">&lt;</td><td class=\"odd\" style=\"text-align: start; background: #f5f7f8;\"></td><td class=\"odd\" style=\"text-align: start; background: #f5f7f8;\"></td><td  style=\" background: #f5f7f8;\"></td></tr><tr><td colspan=\"11\"></td></tr><tr><td colspan=\"11\"></td></tr><tr style=\"color: #000;border-bottom: 1px solid #ddd; border-top: 1px solid #ddd; border-collapse: collapse;\"><td  class=\"even\" style=\"text-align: start; background: #fff;\">5</td><td  class=\"even\" style=\"text-align: start; background: #fff;\">(\\'M27AZ9VW\\', \\'01\\', 400)</td><td  class=\"even\" style=\"text-align: start; background: #fff;\"> </td><td  class=\"even\" style=\"text-align: start; background: #fff;\">(\\'M27AZ9VW\\', \\'01\\', 400)</td><td  class=\"even\" style=\"text-align: start; background: #fff;\">3</td><td  style=\" background: #f5f7f8;\"></td></tr><tr><td colspan=\"11\"></td></tr><tr><td colspan=\"11\"></td></tr><tr style=\"color: #000;border-bottom: 1px solid #ddd; border-top: 1px solid #ddd; border-collapse: collapse;\"><td class=\"odd\" style=\"text-align: start; background: #f5f7f8;\"></td><td class=\"odd\" style=\"text-align: start; background: #f5f7f8;\"></td><td class=\"odd\" style=\"text-align: start; background: #ccffd8;font-weight: bold; color: #040;\">&gt;</td><td class=\"odd\" style=\"text-align: start; background: #ccffd8;font-weight: bold; color: #040;\">(\\'XXXXXXXX\\', \\'8\\', 888)</td><td class=\"odd\" style=\"text-align: start; background: #e6ffec;\">4</td><td  style=\" background: #f5f7f8;\"></td></tr><tr style=\"color: #000;border-bottom: 1px solid #ddd; border-top: 1px solid #ddd; border-collapse: collapse;\"><td  class=\"even\" style=\"text-align: start; background: #f5f7f8;\"></td><td  class=\"even\" style=\"text-align: start; background: #f5f7f8;\"></td><td  class=\"even\" style=\"text-align: start; background: #ccffd8;font-weight: bold; color: #040;\">&gt;</td><td  class=\"even\" style=\"text-align: start; background: #ccffd8;font-weight: bold; color: #040;\">(\\'XXXXXXXX\\', \\'99\\', 9999)</td><td  class=\"even\" style=\"text-align: start; background: #e6ffec;\">5</td><td  style=\" background: #f5f7f8;\"></td></tr><tr><td colspan=\"11\"></td></tr></tbody></table>'"
      ]
     },
     "execution_count": 13,
     "metadata": {},
     "output_type": "execute_result"
    }
   ],
   "source": [
    "uxdiff.tabulate(uxdiff.Differ(cutoff=0.5, fuzzy=0.2).compare(\n",
    "    seq1, seq2\n",
    "))# , truncate=10)"
   ]
  },
  {
   "cell_type": "code",
   "execution_count": 14,
   "metadata": {},
   "outputs": [],
   "source": [
    "import pandas as pd"
   ]
  },
  {
   "cell_type": "code",
   "execution_count": 15,
   "metadata": {},
   "outputs": [
    {
     "data": {
      "text/html": [
       "<div>\n",
       "<style scoped>\n",
       "    .dataframe tbody tr th:only-of-type {\n",
       "        vertical-align: middle;\n",
       "    }\n",
       "\n",
       "    .dataframe tbody tr th {\n",
       "        vertical-align: top;\n",
       "    }\n",
       "\n",
       "    .dataframe thead th {\n",
       "        text-align: right;\n",
       "    }\n",
       "</style>\n",
       "<table border=\"1\" class=\"dataframe\">\n",
       "  <thead>\n",
       "    <tr style=\"text-align: right;\">\n",
       "      <th></th>\n",
       "      <th>code</th>\n",
       "      <th>sub</th>\n",
       "      <th>count</th>\n",
       "    </tr>\n",
       "  </thead>\n",
       "  <tbody>\n",
       "    <tr>\n",
       "      <th>0</th>\n",
       "      <td>M27AZ9VW</td>\n",
       "      <td>01</td>\n",
       "      <td>1</td>\n",
       "    </tr>\n",
       "    <tr>\n",
       "      <th>1</th>\n",
       "      <td>7AMJ6KBEJ</td>\n",
       "      <td>01</td>\n",
       "      <td>50</td>\n",
       "    </tr>\n",
       "    <tr>\n",
       "      <th>2</th>\n",
       "      <td>7AMJ6KBEJ</td>\n",
       "      <td>01</td>\n",
       "      <td>200</td>\n",
       "    </tr>\n",
       "    <tr>\n",
       "      <th>3</th>\n",
       "      <td>7AMJ6KBEJ</td>\n",
       "      <td>02</td>\n",
       "      <td>300</td>\n",
       "    </tr>\n",
       "    <tr>\n",
       "      <th>4</th>\n",
       "      <td>M27AZ9VW</td>\n",
       "      <td>01</td>\n",
       "      <td>400</td>\n",
       "    </tr>\n",
       "    <tr>\n",
       "      <th>5</th>\n",
       "      <td>AME4BRWJ</td>\n",
       "      <td>01</td>\n",
       "      <td>500</td>\n",
       "    </tr>\n",
       "  </tbody>\n",
       "</table>\n",
       "</div>"
      ],
      "text/plain": [
       "        code sub  count\n",
       "0   M27AZ9VW  01      1\n",
       "1  7AMJ6KBEJ  01     50\n",
       "2  7AMJ6KBEJ  01    200\n",
       "3  7AMJ6KBEJ  02    300\n",
       "4   M27AZ9VW  01    400\n",
       "5   AME4BRWJ  01    500"
      ]
     },
     "execution_count": 15,
     "metadata": {},
     "output_type": "execute_result"
    }
   ],
   "source": [
    "df1 = pd.DataFrame([\n",
    "    {\"code\": \"M27AZ9VW\", \"sub\": \"01\", \"count\": 1},\n",
    "    {\"code\": \"7AMJ6KBEJ\", \"sub\": \"01\", \"count\": 50},\n",
    "    {\"code\": \"7AMJ6KBEJ\", \"sub\": \"01\", \"count\": 200},\n",
    "    {\"code\": \"7AMJ6KBEJ\", \"sub\": \"02\", \"count\": 300},\n",
    "    {\"code\": \"M27AZ9VW\", \"sub\": \"01\", \"count\": 400},\n",
    "    {\"code\": \"AME4BRWJ\", \"sub\": \"01\", \"count\": 500},\n",
    "])\n",
    "df1"
   ]
  },
  {
   "cell_type": "code",
   "execution_count": 16,
   "metadata": {},
   "outputs": [
    {
     "data": {
      "text/html": [
       "<div>\n",
       "<style scoped>\n",
       "    .dataframe tbody tr th:only-of-type {\n",
       "        vertical-align: middle;\n",
       "    }\n",
       "\n",
       "    .dataframe tbody tr th {\n",
       "        vertical-align: top;\n",
       "    }\n",
       "\n",
       "    .dataframe thead th {\n",
       "        text-align: right;\n",
       "    }\n",
       "</style>\n",
       "<table border=\"1\" class=\"dataframe\">\n",
       "  <thead>\n",
       "    <tr style=\"text-align: right;\">\n",
       "      <th></th>\n",
       "      <th>code</th>\n",
       "      <th>sub</th>\n",
       "      <th>count</th>\n",
       "    </tr>\n",
       "  </thead>\n",
       "  <tbody>\n",
       "    <tr>\n",
       "      <th>0</th>\n",
       "      <td>AME4BRWJ</td>\n",
       "      <td>10</td>\n",
       "      <td>500</td>\n",
       "    </tr>\n",
       "    <tr>\n",
       "      <th>1</th>\n",
       "      <td>M27AZ9VW</td>\n",
       "      <td>01</td>\n",
       "      <td>400</td>\n",
       "    </tr>\n",
       "    <tr>\n",
       "      <th>2</th>\n",
       "      <td>7AMJ6KBEJ</td>\n",
       "      <td>01</td>\n",
       "      <td>345</td>\n",
       "    </tr>\n",
       "    <tr>\n",
       "      <th>3</th>\n",
       "      <td>7AMJ6KBEJ</td>\n",
       "      <td>01</td>\n",
       "      <td>150</td>\n",
       "    </tr>\n",
       "    <tr>\n",
       "      <th>4</th>\n",
       "      <td>XXXXXXXX</td>\n",
       "      <td>8</td>\n",
       "      <td>888</td>\n",
       "    </tr>\n",
       "    <tr>\n",
       "      <th>5</th>\n",
       "      <td>XXXXXXXX</td>\n",
       "      <td>99</td>\n",
       "      <td>9999</td>\n",
       "    </tr>\n",
       "  </tbody>\n",
       "</table>\n",
       "</div>"
      ],
      "text/plain": [
       "        code sub  count\n",
       "0   AME4BRWJ  10    500\n",
       "1   M27AZ9VW  01    400\n",
       "2  7AMJ6KBEJ  01    345\n",
       "3  7AMJ6KBEJ  01    150\n",
       "4   XXXXXXXX   8    888\n",
       "5   XXXXXXXX  99   9999"
      ]
     },
     "execution_count": 16,
     "metadata": {},
     "output_type": "execute_result"
    }
   ],
   "source": [
    "df2 = pd.DataFrame([\n",
    "    {\"code\": 'AME4BRWJ', \"sub\": \"10\", \"count\": 500},\n",
    "    {\"code\": \"M27AZ9VW\", \"sub\": \"01\", \"count\": 400},\n",
    "    {\"code\": \"7AMJ6KBEJ\", \"sub\": \"01\", \"count\": 345},\n",
    "    {\"code\": \"7AMJ6KBEJ\", \"sub\": \"01\", \"count\": 150},\n",
    "    {\"code\": \"XXXXXXXX\", \"sub\": \"8\", \"count\": 888},\n",
    "    {\"code\": \"XXXXXXXX\", \"sub\": \"99\", \"count\": 9999},\n",
    "])\n",
    "df2"
   ]
  },
  {
   "cell_type": "code",
   "execution_count": 17,
   "metadata": {},
   "outputs": [],
   "source": [
    "diffs = list(uxdiff.Differ(cutoff=0.5, fuzzy=0.2).compare(\n",
    "    sorted(df1.itertuples(index=False, name=\"seq1\")),\n",
    "    sorted(df2.itertuples(index=False, name=\"seq2\")),\n",
    "))"
   ]
  },
  {
   "cell_type": "code",
   "execution_count": 18,
   "metadata": {},
   "outputs": [
    {
     "data": {
      "text/html": [
       "<table style=\"background: #f5f7f8; color: #000; width=100%; overflow-wrap: anywhere; text-align: start\">\n",
       "    <thead><tr><th>idx1</th><th>seq1</th><th></th><th>seq2</th><th>idx2</th><th></th>\n",
       "    <th></th><th>slice1</th><th></th><th>slice2</th><th></th></tr></thead><tbody><tr><td colspan=\"11\"></td></tr><tr style=\"color: #000;border-bottom: 1px solid #ddd; border-top: 1px solid #ddd; border-collapse: collapse;\"><td class=\"odd\" rowspan=\"4\" style=\"text-align: start; background: #ffebe9;\">0</td><td class=\"odd\" rowspan=\"4\" style=\"text-align: start; background: #ffebe9;\">seq1(code='7AMJ6KBEJ', sub='01', count=50)</td><td class=\"odd\" rowspan=\"4\" style=\"text-align: start; background: #f2e8ab;font-weight: bold; color: #330;\">|</td><td class=\"odd\" rowspan=\"4\" style=\"text-align: start; background: #e6ffec;\">seq2(code='7AMJ6KBEJ', sub='01', count=150)</td><td class=\"odd\" rowspan=\"4\" style=\"text-align: start; background: #e6ffec;\">0</td><td  style=\" background: #f5f7f8;\"></td></tr><tr style=\"color: #000;\"><td  style=\" background: #f5f7f8;\"><td  style=\"text-align: start; background: #fff;\">0:2<td  style=\"text-align: start; background: #fff;\">('7AMJ6KBEJ', '01')</td><td  style=\"text-align: start; background: #fff;\"> </td><td  style=\"text-align: start; background: #fff;\">('7AMJ6KBEJ', '01')</td><td  style=\"text-align: start; background: #fff;\">0:2</td></tr><tr style=\"color: #000;\"><td  style=\" background: #f5f7f8;\"><td  style=\"text-align: start; background: #ffebe9;\">2<td  style=\"text-align: start; background: #ffd7d5;font-weight: bold; color: #700;\">(50,)</td><td  style=\"text-align: start; background: #f2e8ab;font-weight: bold; color: #330;\">!</td><td  style=\"text-align: start; background: #ccffd8;font-weight: bold; color: #040;\">(150,)</td><td  style=\"text-align: start; background: #e6ffec;\">2</td></tr><tr><td  style=\" background: #f5f7f8;\"></td></tr><tr style=\"color: #000;border-bottom: 1px solid #ddd; border-top: 1px solid #ddd; border-collapse: collapse;\"><td  class=\"even\" rowspan=\"4\" style=\"text-align: start; background: #ffebe9;\">1</td><td  class=\"even\" rowspan=\"4\" style=\"text-align: start; background: #ffebe9;\">seq1(code='7AMJ6KBEJ', sub='01', count=200)</td><td  class=\"even\" rowspan=\"4\" style=\"text-align: start; background: #f2e8ab;font-weight: bold; color: #330;\">|</td><td  class=\"even\" rowspan=\"4\" style=\"text-align: start; background: #e6ffec;\">seq2(code='7AMJ6KBEJ', sub='01', count=345)</td><td  class=\"even\" rowspan=\"4\" style=\"text-align: start; background: #e6ffec;\">1</td><td  style=\" background: #f5f7f8;\"></td></tr><tr style=\"color: #000;\"><td  style=\" background: #f5f7f8;\"><td  style=\"text-align: start; background: #fff;\">0:2<td  style=\"text-align: start; background: #fff;\">('7AMJ6KBEJ', '01')</td><td  style=\"text-align: start; background: #fff;\"> </td><td  style=\"text-align: start; background: #fff;\">('7AMJ6KBEJ', '01')</td><td  style=\"text-align: start; background: #fff;\">0:2</td></tr><tr style=\"color: #000;\"><td  style=\" background: #f5f7f8;\"><td  style=\"text-align: start; background: #ffebe9;\">2<td  style=\"text-align: start; background: #ffd7d5;font-weight: bold; color: #700;\">(200,)</td><td  style=\"text-align: start; background: #f2e8ab;font-weight: bold; color: #330;\">!</td><td  style=\"text-align: start; background: #ccffd8;font-weight: bold; color: #040;\">(345,)</td><td  style=\"text-align: start; background: #e6ffec;\">2</td></tr><tr><td  style=\" background: #f5f7f8;\"></td></tr><tr style=\"color: #000;border-bottom: 1px solid #ddd; border-top: 1px solid #ddd; border-collapse: collapse;\"><td class=\"odd\" style=\"text-align: start; background: #ffebe9;\">2</td><td class=\"odd\" style=\"text-align: start; background: #ffd7d5;font-weight: bold; color: #700;\">seq1(code='7AMJ6KBEJ', sub='02', count=300)</td><td class=\"odd\" style=\"text-align: start; background: #ffd7d5;font-weight: bold; color: #700;\">&lt;</td><td class=\"odd\" style=\"text-align: start; background: #f5f7f8;\"></td><td class=\"odd\" style=\"text-align: start; background: #f5f7f8;\"></td><td  style=\" background: #f5f7f8;\"></td></tr><tr style=\"color: #000;border-bottom: 1px solid #ddd; border-top: 1px solid #ddd; border-collapse: collapse;\"><td  class=\"even\" rowspan=\"5\" style=\"text-align: start; background: #ffebe9;\">3</td><td  class=\"even\" rowspan=\"5\" style=\"text-align: start; background: #ffebe9;\">seq1(code='AME4BRWJ', sub='01', count=500)</td><td  class=\"even\" rowspan=\"5\" style=\"text-align: start; background: #f2e8ab;font-weight: bold; color: #330;\">|</td><td  class=\"even\" rowspan=\"5\" style=\"text-align: start; background: #e6ffec;\">seq2(code='AME4BRWJ', sub='10', count=500)</td><td  class=\"even\" rowspan=\"5\" style=\"text-align: start; background: #e6ffec;\">2</td><td  style=\" background: #f5f7f8;\"></td></tr><tr style=\"color: #000;\"><td  style=\" background: #f5f7f8;\"><td  style=\"text-align: start; background: #fff;\">0<td  style=\"text-align: start; background: #fff;\">('AME4BRWJ',)</td><td  style=\"text-align: start; background: #fff;\"> </td><td  style=\"text-align: start; background: #fff;\">('AME4BRWJ',)</td><td  style=\"text-align: start; background: #fff;\">0</td></tr><tr style=\"color: #000;\"><td  style=\" background: #f5f7f8;\"><td  style=\"text-align: start; background: #ffebe9;\">1<td  style=\"text-align: start; background: #ffd7d5;font-weight: bold; color: #700;\">('01',)</td><td  style=\"text-align: start; background: #f2e8ab;font-weight: bold; color: #330;\">!</td><td  style=\"text-align: start; background: #ccffd8;font-weight: bold; color: #040;\">('10',)</td><td  style=\"text-align: start; background: #e6ffec;\">1</td></tr><tr style=\"color: #000;\"><td  style=\" background: #f5f7f8;\"><td  style=\"text-align: start; background: #fff;\">2<td  style=\"text-align: start; background: #fff;\">(500,)</td><td  style=\"text-align: start; background: #fff;\"> </td><td  style=\"text-align: start; background: #fff;\">(500,)</td><td  style=\"text-align: start; background: #fff;\">2</td></tr><tr><td  style=\" background: #f5f7f8;\"></td></tr><tr style=\"color: #000;border-bottom: 1px solid #ddd; border-top: 1px solid #ddd; border-collapse: collapse;\"><td class=\"odd\" style=\"text-align: start; background: #ffebe9;\">4</td><td class=\"odd\" style=\"text-align: start; background: #ffd7d5;font-weight: bold; color: #700;\">seq1(code='M27AZ9VW', sub='01', count=1)</td><td class=\"odd\" style=\"text-align: start; background: #ffd7d5;font-weight: bold; color: #700;\">&lt;</td><td class=\"odd\" style=\"text-align: start; background: #f5f7f8;\"></td><td class=\"odd\" style=\"text-align: start; background: #f5f7f8;\"></td><td  style=\" background: #f5f7f8;\"></td></tr><tr><td colspan=\"11\"></td></tr><tr><td colspan=\"11\"></td></tr><tr style=\"color: #000;border-bottom: 1px solid #ddd; border-top: 1px solid #ddd; border-collapse: collapse;\"><td  class=\"even\" style=\"text-align: start; background: #fff;\">5</td><td  class=\"even\" style=\"text-align: start; background: #fff;\">seq1(code='M27AZ9VW', sub='01', count=400)</td><td  class=\"even\" style=\"text-align: start; background: #fff;\"> </td><td  class=\"even\" style=\"text-align: start; background: #fff;\">seq2(code='M27AZ9VW', sub='01', count=400)</td><td  class=\"even\" style=\"text-align: start; background: #fff;\">3</td><td  style=\" background: #f5f7f8;\"></td></tr><tr><td colspan=\"11\"></td></tr><tr><td colspan=\"11\"></td></tr><tr style=\"color: #000;border-bottom: 1px solid #ddd; border-top: 1px solid #ddd; border-collapse: collapse;\"><td class=\"odd\" style=\"text-align: start; background: #f5f7f8;\"></td><td class=\"odd\" style=\"text-align: start; background: #f5f7f8;\"></td><td class=\"odd\" style=\"text-align: start; background: #ccffd8;font-weight: bold; color: #040;\">&gt;</td><td class=\"odd\" style=\"text-align: start; background: #ccffd8;font-weight: bold; color: #040;\">seq2(code='XXXXXXXX', sub='8', count=888)</td><td class=\"odd\" style=\"text-align: start; background: #e6ffec;\">4</td><td  style=\" background: #f5f7f8;\"></td></tr><tr style=\"color: #000;border-bottom: 1px solid #ddd; border-top: 1px solid #ddd; border-collapse: collapse;\"><td  class=\"even\" style=\"text-align: start; background: #f5f7f8;\"></td><td  class=\"even\" style=\"text-align: start; background: #f5f7f8;\"></td><td  class=\"even\" style=\"text-align: start; background: #ccffd8;font-weight: bold; color: #040;\">&gt;</td><td  class=\"even\" style=\"text-align: start; background: #ccffd8;font-weight: bold; color: #040;\">seq2(code='XXXXXXXX', sub='99', count=9999)</td><td  class=\"even\" style=\"text-align: start; background: #e6ffec;\">5</td><td  style=\" background: #f5f7f8;\"></td></tr><tr><td colspan=\"11\"></td></tr></tbody></table>"
      ],
      "text/plain": [
       "'<table style=\"background: #f5f7f8; color: #000; width=100%; overflow-wrap: anywhere; text-align: start\">\\n    <thead><tr><th>idx1</th><th>seq1</th><th></th><th>seq2</th><th>idx2</th><th></th>\\n    <th></th><th>slice1</th><th></th><th>slice2</th><th></th></tr></thead><tbody><tr><td colspan=\"11\"></td></tr><tr style=\"color: #000;border-bottom: 1px solid #ddd; border-top: 1px solid #ddd; border-collapse: collapse;\"><td class=\"odd\" rowspan=\"4\" style=\"text-align: start; background: #ffebe9;\">0</td><td class=\"odd\" rowspan=\"4\" style=\"text-align: start; background: #ffebe9;\">seq1(code=\\'7AMJ6KBEJ\\', sub=\\'01\\', count=50)</td><td class=\"odd\" rowspan=\"4\" style=\"text-align: start; background: #f2e8ab;font-weight: bold; color: #330;\">|</td><td class=\"odd\" rowspan=\"4\" style=\"text-align: start; background: #e6ffec;\">seq2(code=\\'7AMJ6KBEJ\\', sub=\\'01\\', count=150)</td><td class=\"odd\" rowspan=\"4\" style=\"text-align: start; background: #e6ffec;\">0</td><td  style=\" background: #f5f7f8;\"></td></tr><tr style=\"color: #000;\"><td  style=\" background: #f5f7f8;\"><td  style=\"text-align: start; background: #fff;\">0:2<td  style=\"text-align: start; background: #fff;\">(\\'7AMJ6KBEJ\\', \\'01\\')</td><td  style=\"text-align: start; background: #fff;\"> </td><td  style=\"text-align: start; background: #fff;\">(\\'7AMJ6KBEJ\\', \\'01\\')</td><td  style=\"text-align: start; background: #fff;\">0:2</td></tr><tr style=\"color: #000;\"><td  style=\" background: #f5f7f8;\"><td  style=\"text-align: start; background: #ffebe9;\">2<td  style=\"text-align: start; background: #ffd7d5;font-weight: bold; color: #700;\">(50,)</td><td  style=\"text-align: start; background: #f2e8ab;font-weight: bold; color: #330;\">!</td><td  style=\"text-align: start; background: #ccffd8;font-weight: bold; color: #040;\">(150,)</td><td  style=\"text-align: start; background: #e6ffec;\">2</td></tr><tr><td  style=\" background: #f5f7f8;\"></td></tr><tr style=\"color: #000;border-bottom: 1px solid #ddd; border-top: 1px solid #ddd; border-collapse: collapse;\"><td  class=\"even\" rowspan=\"4\" style=\"text-align: start; background: #ffebe9;\">1</td><td  class=\"even\" rowspan=\"4\" style=\"text-align: start; background: #ffebe9;\">seq1(code=\\'7AMJ6KBEJ\\', sub=\\'01\\', count=200)</td><td  class=\"even\" rowspan=\"4\" style=\"text-align: start; background: #f2e8ab;font-weight: bold; color: #330;\">|</td><td  class=\"even\" rowspan=\"4\" style=\"text-align: start; background: #e6ffec;\">seq2(code=\\'7AMJ6KBEJ\\', sub=\\'01\\', count=345)</td><td  class=\"even\" rowspan=\"4\" style=\"text-align: start; background: #e6ffec;\">1</td><td  style=\" background: #f5f7f8;\"></td></tr><tr style=\"color: #000;\"><td  style=\" background: #f5f7f8;\"><td  style=\"text-align: start; background: #fff;\">0:2<td  style=\"text-align: start; background: #fff;\">(\\'7AMJ6KBEJ\\', \\'01\\')</td><td  style=\"text-align: start; background: #fff;\"> </td><td  style=\"text-align: start; background: #fff;\">(\\'7AMJ6KBEJ\\', \\'01\\')</td><td  style=\"text-align: start; background: #fff;\">0:2</td></tr><tr style=\"color: #000;\"><td  style=\" background: #f5f7f8;\"><td  style=\"text-align: start; background: #ffebe9;\">2<td  style=\"text-align: start; background: #ffd7d5;font-weight: bold; color: #700;\">(200,)</td><td  style=\"text-align: start; background: #f2e8ab;font-weight: bold; color: #330;\">!</td><td  style=\"text-align: start; background: #ccffd8;font-weight: bold; color: #040;\">(345,)</td><td  style=\"text-align: start; background: #e6ffec;\">2</td></tr><tr><td  style=\" background: #f5f7f8;\"></td></tr><tr style=\"color: #000;border-bottom: 1px solid #ddd; border-top: 1px solid #ddd; border-collapse: collapse;\"><td class=\"odd\" style=\"text-align: start; background: #ffebe9;\">2</td><td class=\"odd\" style=\"text-align: start; background: #ffd7d5;font-weight: bold; color: #700;\">seq1(code=\\'7AMJ6KBEJ\\', sub=\\'02\\', count=300)</td><td class=\"odd\" style=\"text-align: start; background: #ffd7d5;font-weight: bold; color: #700;\">&lt;</td><td class=\"odd\" style=\"text-align: start; background: #f5f7f8;\"></td><td class=\"odd\" style=\"text-align: start; background: #f5f7f8;\"></td><td  style=\" background: #f5f7f8;\"></td></tr><tr style=\"color: #000;border-bottom: 1px solid #ddd; border-top: 1px solid #ddd; border-collapse: collapse;\"><td  class=\"even\" rowspan=\"5\" style=\"text-align: start; background: #ffebe9;\">3</td><td  class=\"even\" rowspan=\"5\" style=\"text-align: start; background: #ffebe9;\">seq1(code=\\'AME4BRWJ\\', sub=\\'01\\', count=500)</td><td  class=\"even\" rowspan=\"5\" style=\"text-align: start; background: #f2e8ab;font-weight: bold; color: #330;\">|</td><td  class=\"even\" rowspan=\"5\" style=\"text-align: start; background: #e6ffec;\">seq2(code=\\'AME4BRWJ\\', sub=\\'10\\', count=500)</td><td  class=\"even\" rowspan=\"5\" style=\"text-align: start; background: #e6ffec;\">2</td><td  style=\" background: #f5f7f8;\"></td></tr><tr style=\"color: #000;\"><td  style=\" background: #f5f7f8;\"><td  style=\"text-align: start; background: #fff;\">0<td  style=\"text-align: start; background: #fff;\">(\\'AME4BRWJ\\',)</td><td  style=\"text-align: start; background: #fff;\"> </td><td  style=\"text-align: start; background: #fff;\">(\\'AME4BRWJ\\',)</td><td  style=\"text-align: start; background: #fff;\">0</td></tr><tr style=\"color: #000;\"><td  style=\" background: #f5f7f8;\"><td  style=\"text-align: start; background: #ffebe9;\">1<td  style=\"text-align: start; background: #ffd7d5;font-weight: bold; color: #700;\">(\\'01\\',)</td><td  style=\"text-align: start; background: #f2e8ab;font-weight: bold; color: #330;\">!</td><td  style=\"text-align: start; background: #ccffd8;font-weight: bold; color: #040;\">(\\'10\\',)</td><td  style=\"text-align: start; background: #e6ffec;\">1</td></tr><tr style=\"color: #000;\"><td  style=\" background: #f5f7f8;\"><td  style=\"text-align: start; background: #fff;\">2<td  style=\"text-align: start; background: #fff;\">(500,)</td><td  style=\"text-align: start; background: #fff;\"> </td><td  style=\"text-align: start; background: #fff;\">(500,)</td><td  style=\"text-align: start; background: #fff;\">2</td></tr><tr><td  style=\" background: #f5f7f8;\"></td></tr><tr style=\"color: #000;border-bottom: 1px solid #ddd; border-top: 1px solid #ddd; border-collapse: collapse;\"><td class=\"odd\" style=\"text-align: start; background: #ffebe9;\">4</td><td class=\"odd\" style=\"text-align: start; background: #ffd7d5;font-weight: bold; color: #700;\">seq1(code=\\'M27AZ9VW\\', sub=\\'01\\', count=1)</td><td class=\"odd\" style=\"text-align: start; background: #ffd7d5;font-weight: bold; color: #700;\">&lt;</td><td class=\"odd\" style=\"text-align: start; background: #f5f7f8;\"></td><td class=\"odd\" style=\"text-align: start; background: #f5f7f8;\"></td><td  style=\" background: #f5f7f8;\"></td></tr><tr><td colspan=\"11\"></td></tr><tr><td colspan=\"11\"></td></tr><tr style=\"color: #000;border-bottom: 1px solid #ddd; border-top: 1px solid #ddd; border-collapse: collapse;\"><td  class=\"even\" style=\"text-align: start; background: #fff;\">5</td><td  class=\"even\" style=\"text-align: start; background: #fff;\">seq1(code=\\'M27AZ9VW\\', sub=\\'01\\', count=400)</td><td  class=\"even\" style=\"text-align: start; background: #fff;\"> </td><td  class=\"even\" style=\"text-align: start; background: #fff;\">seq2(code=\\'M27AZ9VW\\', sub=\\'01\\', count=400)</td><td  class=\"even\" style=\"text-align: start; background: #fff;\">3</td><td  style=\" background: #f5f7f8;\"></td></tr><tr><td colspan=\"11\"></td></tr><tr><td colspan=\"11\"></td></tr><tr style=\"color: #000;border-bottom: 1px solid #ddd; border-top: 1px solid #ddd; border-collapse: collapse;\"><td class=\"odd\" style=\"text-align: start; background: #f5f7f8;\"></td><td class=\"odd\" style=\"text-align: start; background: #f5f7f8;\"></td><td class=\"odd\" style=\"text-align: start; background: #ccffd8;font-weight: bold; color: #040;\">&gt;</td><td class=\"odd\" style=\"text-align: start; background: #ccffd8;font-weight: bold; color: #040;\">seq2(code=\\'XXXXXXXX\\', sub=\\'8\\', count=888)</td><td class=\"odd\" style=\"text-align: start; background: #e6ffec;\">4</td><td  style=\" background: #f5f7f8;\"></td></tr><tr style=\"color: #000;border-bottom: 1px solid #ddd; border-top: 1px solid #ddd; border-collapse: collapse;\"><td  class=\"even\" style=\"text-align: start; background: #f5f7f8;\"></td><td  class=\"even\" style=\"text-align: start; background: #f5f7f8;\"></td><td  class=\"even\" style=\"text-align: start; background: #ccffd8;font-weight: bold; color: #040;\">&gt;</td><td  class=\"even\" style=\"text-align: start; background: #ccffd8;font-weight: bold; color: #040;\">seq2(code=\\'XXXXXXXX\\', sub=\\'99\\', count=9999)</td><td  class=\"even\" style=\"text-align: start; background: #e6ffec;\">5</td><td  style=\" background: #f5f7f8;\"></td></tr><tr><td colspan=\"11\"></td></tr></tbody></table>'"
      ]
     },
     "execution_count": 18,
     "metadata": {},
     "output_type": "execute_result"
    }
   ],
   "source": [
    "uxdiff.tabulate(diffs)"
   ]
  },
  {
   "cell_type": "code",
   "execution_count": 19,
   "metadata": {},
   "outputs": [
    {
     "data": {
      "text/html": [
       "<div>\n",
       "<style scoped>\n",
       "    .dataframe tbody tr th:only-of-type {\n",
       "        vertical-align: middle;\n",
       "    }\n",
       "\n",
       "    .dataframe tbody tr th {\n",
       "        vertical-align: top;\n",
       "    }\n",
       "\n",
       "    .dataframe thead th {\n",
       "        text-align: right;\n",
       "    }\n",
       "</style>\n",
       "<table border=\"1\" class=\"dataframe\">\n",
       "  <thead>\n",
       "    <tr style=\"text-align: right;\">\n",
       "      <th></th>\n",
       "      <th>code</th>\n",
       "      <th>sub</th>\n",
       "      <th>count</th>\n",
       "    </tr>\n",
       "  </thead>\n",
       "  <tbody>\n",
       "    <tr>\n",
       "      <th>0</th>\n",
       "      <td>M27AZ9VW</td>\n",
       "      <td>01</td>\n",
       "      <td>400</td>\n",
       "    </tr>\n",
       "  </tbody>\n",
       "</table>\n",
       "</div>"
      ],
      "text/plain": [
       "       code sub  count\n",
       "0  M27AZ9VW  01    400"
      ]
     },
     "execution_count": 19,
     "metadata": {},
     "output_type": "execute_result"
    }
   ],
   "source": [
    "pd.DataFrame([\n",
    "    diff[0][2] for diff in diffs\n",
    "    if not diff in [True, False, None] and diff[0][0] == ' '\n",
    "])"
   ]
  },
  {
   "cell_type": "code",
   "execution_count": 20,
   "metadata": {},
   "outputs": [
    {
     "data": {
      "text/html": [
       "<div>\n",
       "<style scoped>\n",
       "    .dataframe tbody tr th:only-of-type {\n",
       "        vertical-align: middle;\n",
       "    }\n",
       "\n",
       "    .dataframe tbody tr th {\n",
       "        vertical-align: top;\n",
       "    }\n",
       "\n",
       "    .dataframe thead th {\n",
       "        text-align: right;\n",
       "    }\n",
       "</style>\n",
       "<table border=\"1\" class=\"dataframe\">\n",
       "  <thead>\n",
       "    <tr style=\"text-align: right;\">\n",
       "      <th></th>\n",
       "      <th>code</th>\n",
       "      <th>sub</th>\n",
       "      <th>count</th>\n",
       "    </tr>\n",
       "  </thead>\n",
       "  <tbody>\n",
       "    <tr>\n",
       "      <th>0</th>\n",
       "      <td>7AMJ6KBEJ</td>\n",
       "      <td>02</td>\n",
       "      <td>300</td>\n",
       "    </tr>\n",
       "    <tr>\n",
       "      <th>1</th>\n",
       "      <td>M27AZ9VW</td>\n",
       "      <td>01</td>\n",
       "      <td>1</td>\n",
       "    </tr>\n",
       "  </tbody>\n",
       "</table>\n",
       "</div>"
      ],
      "text/plain": [
       "        code sub  count\n",
       "0  7AMJ6KBEJ  02    300\n",
       "1   M27AZ9VW  01      1"
      ]
     },
     "execution_count": 20,
     "metadata": {},
     "output_type": "execute_result"
    }
   ],
   "source": [
    "pd.DataFrame([\n",
    "    diff[0][2] for diff in diffs\n",
    "    if not diff in [True, False, None] and diff[0][0] == '<'\n",
    "])"
   ]
  },
  {
   "cell_type": "code",
   "execution_count": 21,
   "metadata": {},
   "outputs": [
    {
     "data": {
      "text/html": [
       "<div>\n",
       "<style scoped>\n",
       "    .dataframe tbody tr th:only-of-type {\n",
       "        vertical-align: middle;\n",
       "    }\n",
       "\n",
       "    .dataframe tbody tr th {\n",
       "        vertical-align: top;\n",
       "    }\n",
       "\n",
       "    .dataframe thead th {\n",
       "        text-align: right;\n",
       "    }\n",
       "</style>\n",
       "<table border=\"1\" class=\"dataframe\">\n",
       "  <thead>\n",
       "    <tr style=\"text-align: right;\">\n",
       "      <th></th>\n",
       "      <th>code</th>\n",
       "      <th>sub</th>\n",
       "      <th>count</th>\n",
       "    </tr>\n",
       "  </thead>\n",
       "  <tbody>\n",
       "    <tr>\n",
       "      <th>0</th>\n",
       "      <td>XXXXXXXX</td>\n",
       "      <td>8</td>\n",
       "      <td>888</td>\n",
       "    </tr>\n",
       "    <tr>\n",
       "      <th>1</th>\n",
       "      <td>XXXXXXXX</td>\n",
       "      <td>99</td>\n",
       "      <td>9999</td>\n",
       "    </tr>\n",
       "  </tbody>\n",
       "</table>\n",
       "</div>"
      ],
      "text/plain": [
       "       code sub  count\n",
       "0  XXXXXXXX   8    888\n",
       "1  XXXXXXXX  99   9999"
      ]
     },
     "execution_count": 21,
     "metadata": {},
     "output_type": "execute_result"
    }
   ],
   "source": [
    "pd.DataFrame([\n",
    "    diff[0][4] for diff in diffs\n",
    "    if not diff in [True, False, None] and diff[0][0] == '>'\n",
    "])"
   ]
  },
  {
   "cell_type": "code",
   "execution_count": 22,
   "metadata": {},
   "outputs": [
    {
     "data": {
      "text/html": [
       "<div>\n",
       "<style scoped>\n",
       "    .dataframe tbody tr th:only-of-type {\n",
       "        vertical-align: middle;\n",
       "    }\n",
       "\n",
       "    .dataframe tbody tr th {\n",
       "        vertical-align: top;\n",
       "    }\n",
       "\n",
       "    .dataframe thead th {\n",
       "        text-align: right;\n",
       "    }\n",
       "</style>\n",
       "<table border=\"1\" class=\"dataframe\">\n",
       "  <thead>\n",
       "    <tr style=\"text-align: right;\">\n",
       "      <th></th>\n",
       "      <th>code_x</th>\n",
       "      <th>sub_x</th>\n",
       "      <th>count_x</th>\n",
       "      <th>code_y</th>\n",
       "      <th>sub_y</th>\n",
       "      <th>count_y</th>\n",
       "    </tr>\n",
       "  </thead>\n",
       "  <tbody>\n",
       "    <tr>\n",
       "      <th>0</th>\n",
       "      <td>7AMJ6KBEJ</td>\n",
       "      <td>01</td>\n",
       "      <td>50</td>\n",
       "      <td>7AMJ6KBEJ</td>\n",
       "      <td>01</td>\n",
       "      <td>150</td>\n",
       "    </tr>\n",
       "    <tr>\n",
       "      <th>1</th>\n",
       "      <td>7AMJ6KBEJ</td>\n",
       "      <td>01</td>\n",
       "      <td>200</td>\n",
       "      <td>7AMJ6KBEJ</td>\n",
       "      <td>01</td>\n",
       "      <td>345</td>\n",
       "    </tr>\n",
       "    <tr>\n",
       "      <th>2</th>\n",
       "      <td>AME4BRWJ</td>\n",
       "      <td>01</td>\n",
       "      <td>500</td>\n",
       "      <td>AME4BRWJ</td>\n",
       "      <td>10</td>\n",
       "      <td>500</td>\n",
       "    </tr>\n",
       "  </tbody>\n",
       "</table>\n",
       "</div>"
      ],
      "text/plain": [
       "      code_x sub_x  count_x     code_y sub_y  count_y\n",
       "0  7AMJ6KBEJ    01       50  7AMJ6KBEJ    01      150\n",
       "1  7AMJ6KBEJ    01      200  7AMJ6KBEJ    01      345\n",
       "2   AME4BRWJ    01      500   AME4BRWJ    10      500"
      ]
     },
     "execution_count": 22,
     "metadata": {},
     "output_type": "execute_result"
    }
   ],
   "source": [
    "df1 = pd.DataFrame([\n",
    "    diff[0][2] for diff in diffs\n",
    "    if not diff in [True, False, None] and diff[0][0] == '|'\n",
    "])\n",
    "df2 = pd.DataFrame([\n",
    "    diff[0][4] for diff in diffs\n",
    "    if not diff in [True, False, None] and diff[0][0] == '|'\n",
    "])\n",
    "pd.merge(\n",
    "    df1, df2,\n",
    "    left_index=True, right_index=True,\n",
    ")"
   ]
  },
  {
   "cell_type": "code",
   "execution_count": null,
   "metadata": {},
   "outputs": [],
   "source": []
  }
 ],
 "metadata": {
  "kernelspec": {
   "display_name": "Python 3 (ipykernel)",
   "language": "python",
   "name": "python3"
  },
  "language_info": {
   "codemirror_mode": {
    "name": "ipython",
    "version": 3
   },
   "file_extension": ".py",
   "mimetype": "text/x-python",
   "name": "python",
   "nbconvert_exporter": "python",
   "pygments_lexer": "ipython3",
   "version": "3.8.18"
  }
 },
 "nbformat": 4,
 "nbformat_minor": 4
}
