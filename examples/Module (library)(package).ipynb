{
 "cells": [
  {
   "cell_type": "code",
   "execution_count": 1,
   "metadata": {},
   "outputs": [],
   "source": [
    "import difflib\n",
    "\n",
    "import sys\n",
    "! {sys.executable} -m pip install -q uxdiff tabulate\n",
    "import uxdiff\n",
    "import tabulate"
   ]
  },
  {
   "cell_type": "code",
   "execution_count": 2,
   "metadata": {},
   "outputs": [],
   "source": [
    "seq1 = [\n",
    "    (\"M27AZ9VW\", \"01\", 1),\n",
    "    (\"7AMJ6KBEJ\", \"01\", 50),\n",
    "    (\"7AMJ6KBEJ\", \"01\", 200),\n",
    "    (\"7AMJ6KBEJ\", \"02\", 300),\n",
    "    (\"M27AZ9VW\", \"01\", 400),\n",
    "    (\"AME4BRWJ\", \"01\", 500),\n",
    "]\n",
    "seq2 = [\n",
    "    ('AME4BRWJ', \"10\", 500),\n",
    "    (\"M27AZ9VW\", \"01\", 400),\n",
    "    (\"7AMJ6KBEJ\", \"01\", 345),\n",
    "    (\"7AMJ6KBEJ\", \"01\", 150),\n",
    "]"
   ]
  },
  {
   "cell_type": "code",
   "execution_count": 3,
   "metadata": {},
   "outputs": [],
   "source": [
    "seq1.sort()\n",
    "seq2.sort()"
   ]
  },
  {
   "cell_type": "markdown",
   "metadata": {},
   "source": [
    "[difflib.Differ](https://docs.python.org/3/library/difflib.html#differ-objects)"
   ]
  },
  {
   "cell_type": "code",
   "execution_count": 4,
   "metadata": {},
   "outputs": [
    {
     "data": {
      "text/plain": [
       "[\"+ ('7AMJ6KBEJ', '01', 150)\",\n",
       " \"+ ('7AMJ6KBEJ', '01', 345)\",\n",
       " \"+ ('AME4BRWJ', '10', 500)\",\n",
       " \"- ('7AMJ6KBEJ', '01', 50)\",\n",
       " \"- ('7AMJ6KBEJ', '01', 200)\",\n",
       " \"- ('7AMJ6KBEJ', '02', 300)\",\n",
       " \"- ('AME4BRWJ', '01', 500)\",\n",
       " \"- ('M27AZ9VW', '01', 1)\",\n",
       " \"  ('M27AZ9VW', '01', 400)\"]"
      ]
     },
     "execution_count": 4,
     "metadata": {},
     "output_type": "execute_result"
    }
   ],
   "source": [
    "[diff for diff in difflib.Differ().compare(seq1, seq2)]"
   ]
  },
  {
   "cell_type": "markdown",
   "metadata": {},
   "source": [
    "`uxdiff.Differ` compare any two sequences.\n",
    "\n",
    "Each item of the sequence must be hashable and iterable (touple, str, etc.)."
   ]
  },
  {
   "cell_type": "code",
   "execution_count": 5,
   "metadata": {},
   "outputs": [
    {
     "data": {
      "text/plain": [
       "[(('>', None, None, 0, ('7AMJ6KBEJ', '01', 150)), None),\n",
       " (('>', None, None, 1, ('7AMJ6KBEJ', '01', 345)), None),\n",
       " (('>', None, None, 2, ('AME4BRWJ', '10', 500)), None),\n",
       " (('<', 0, ('7AMJ6KBEJ', '01', 50), None, None), None),\n",
       " (('<', 1, ('7AMJ6KBEJ', '01', 200), None, None), None),\n",
       " (('<', 2, ('7AMJ6KBEJ', '02', 300), None, None), None),\n",
       " (('<', 3, ('AME4BRWJ', '01', 500), None, None), None),\n",
       " (('<', 4, ('M27AZ9VW', '01', 1), None, None), None),\n",
       " ((' ', 5, ('M27AZ9VW', '01', 400), 3, ('M27AZ9VW', '01', 400)), None)]"
      ]
     },
     "execution_count": 5,
     "metadata": {},
     "output_type": "execute_result"
    }
   ],
   "source": [
    "diffs2 = [\n",
    "    diff for diff in uxdiff.Differ().compare(seq1, seq2)\n",
    "    if diff not in [None, True, False]]\n",
    "diffs2"
   ]
  },
  {
   "cell_type": "markdown",
   "metadata": {},
   "source": [
    "code meaning\n",
    "\n",
    "| Code | Meaning |\n",
    "| --- | --- |\n",
    "| `<` | unique to sequence 1 |\n",
    "| `>` | unique to sequence 2 |\n",
    "| ` ` | common to both sequences |\n",
    "| `\\|` | different for both sequences |"
   ]
  },
  {
   "cell_type": "markdown",
   "metadata": {},
   "source": [
    "Easy to see by formatting with html."
   ]
  },
  {
   "cell_type": "code",
   "execution_count": 6,
   "metadata": {},
   "outputs": [],
   "source": [
    "def tableview(diffs):\n",
    "    return tabulate.tabulate([\n",
    "        (diff[0][1], diff[0][2],\n",
    "         diff[0][0],\n",
    "         diff[0][3], diff[0][4],\n",
    "         (tabulate.tabulate(\n",
    "             diff[1], tablefmt='unsafehtml',\n",
    "             headers=[\"code\", \"seq1\", \"seq2\"])\n",
    "          if diff[1] else '')\n",
    "        ) for diff in diffs\n",
    "    ], tablefmt='unsafehtml',\n",
    "        headers=[\"idx1\", \"seq1\", \"code\", \"idx2\", \"seq2\", \"detail\"])"
   ]
  },
  {
   "cell_type": "code",
   "execution_count": 7,
   "metadata": {},
   "outputs": [
    {
     "data": {
      "text/html": [
       "<table>\n",
       "<thead>\n",
       "<tr><th style=\"text-align: right;\">  idx1</th><th>seq1                    </th><th>code  </th><th style=\"text-align: right;\">  idx2</th><th>seq2                    </th><th>detail  </th></tr>\n",
       "</thead>\n",
       "<tbody>\n",
       "<tr><td style=\"text-align: right;\">      </td><td>                        </td><td>>     </td><td style=\"text-align: right;\">     0</td><td>('7AMJ6KBEJ', '01', 150)</td><td>        </td></tr>\n",
       "<tr><td style=\"text-align: right;\">      </td><td>                        </td><td>>     </td><td style=\"text-align: right;\">     1</td><td>('7AMJ6KBEJ', '01', 345)</td><td>        </td></tr>\n",
       "<tr><td style=\"text-align: right;\">      </td><td>                        </td><td>>     </td><td style=\"text-align: right;\">     2</td><td>('AME4BRWJ', '10', 500) </td><td>        </td></tr>\n",
       "<tr><td style=\"text-align: right;\">     0</td><td>('7AMJ6KBEJ', '01', 50) </td><td><     </td><td style=\"text-align: right;\">      </td><td>                        </td><td>        </td></tr>\n",
       "<tr><td style=\"text-align: right;\">     1</td><td>('7AMJ6KBEJ', '01', 200)</td><td><     </td><td style=\"text-align: right;\">      </td><td>                        </td><td>        </td></tr>\n",
       "<tr><td style=\"text-align: right;\">     2</td><td>('7AMJ6KBEJ', '02', 300)</td><td><     </td><td style=\"text-align: right;\">      </td><td>                        </td><td>        </td></tr>\n",
       "<tr><td style=\"text-align: right;\">     3</td><td>('AME4BRWJ', '01', 500) </td><td><     </td><td style=\"text-align: right;\">      </td><td>                        </td><td>        </td></tr>\n",
       "<tr><td style=\"text-align: right;\">     4</td><td>('M27AZ9VW', '01', 1)   </td><td><     </td><td style=\"text-align: right;\">      </td><td>                        </td><td>        </td></tr>\n",
       "<tr><td style=\"text-align: right;\">     5</td><td>('M27AZ9VW', '01', 400) </td><td>      </td><td style=\"text-align: right;\">     3</td><td>('M27AZ9VW', '01', 400) </td><td>        </td></tr>\n",
       "</tbody>\n",
       "</table>"
      ],
      "text/plain": [
       "'<table>\\n<thead>\\n<tr><th style=\"text-align: right;\">  idx1</th><th>seq1                    </th><th>code  </th><th style=\"text-align: right;\">  idx2</th><th>seq2                    </th><th>detail  </th></tr>\\n</thead>\\n<tbody>\\n<tr><td style=\"text-align: right;\">      </td><td>                        </td><td>>     </td><td style=\"text-align: right;\">     0</td><td>(\\'7AMJ6KBEJ\\', \\'01\\', 150)</td><td>        </td></tr>\\n<tr><td style=\"text-align: right;\">      </td><td>                        </td><td>>     </td><td style=\"text-align: right;\">     1</td><td>(\\'7AMJ6KBEJ\\', \\'01\\', 345)</td><td>        </td></tr>\\n<tr><td style=\"text-align: right;\">      </td><td>                        </td><td>>     </td><td style=\"text-align: right;\">     2</td><td>(\\'AME4BRWJ\\', \\'10\\', 500) </td><td>        </td></tr>\\n<tr><td style=\"text-align: right;\">     0</td><td>(\\'7AMJ6KBEJ\\', \\'01\\', 50) </td><td><     </td><td style=\"text-align: right;\">      </td><td>                        </td><td>        </td></tr>\\n<tr><td style=\"text-align: right;\">     1</td><td>(\\'7AMJ6KBEJ\\', \\'01\\', 200)</td><td><     </td><td style=\"text-align: right;\">      </td><td>                        </td><td>        </td></tr>\\n<tr><td style=\"text-align: right;\">     2</td><td>(\\'7AMJ6KBEJ\\', \\'02\\', 300)</td><td><     </td><td style=\"text-align: right;\">      </td><td>                        </td><td>        </td></tr>\\n<tr><td style=\"text-align: right;\">     3</td><td>(\\'AME4BRWJ\\', \\'01\\', 500) </td><td><     </td><td style=\"text-align: right;\">      </td><td>                        </td><td>        </td></tr>\\n<tr><td style=\"text-align: right;\">     4</td><td>(\\'M27AZ9VW\\', \\'01\\', 1)   </td><td><     </td><td style=\"text-align: right;\">      </td><td>                        </td><td>        </td></tr>\\n<tr><td style=\"text-align: right;\">     5</td><td>(\\'M27AZ9VW\\', \\'01\\', 400) </td><td>      </td><td style=\"text-align: right;\">     3</td><td>(\\'M27AZ9VW\\', \\'01\\', 400) </td><td>        </td></tr>\\n</tbody>\\n</table>'"
      ]
     },
     "execution_count": 7,
     "metadata": {},
     "output_type": "execute_result"
    }
   ],
   "source": [
    "tableview(diffs2)"
   ]
  },
  {
   "cell_type": "markdown",
   "metadata": {},
   "source": [
    "Adjust the diff by parameters such as cutoff and fuzzy"
   ]
  },
  {
   "cell_type": "code",
   "execution_count": 8,
   "metadata": {},
   "outputs": [
    {
     "data": {
      "text/plain": [
       "[(('|', 0, ('7AMJ6KBEJ', '01', 50), 0, ('7AMJ6KBEJ', '01', 150)),\n",
       "  [(' ', ('7AMJ6KBEJ', '01'), ('7AMJ6KBEJ', '01')), ('!', (50,), (150,))]),\n",
       " (('|', 1, ('7AMJ6KBEJ', '01', 200), 1, ('7AMJ6KBEJ', '01', 345)),\n",
       "  [(' ', ('7AMJ6KBEJ', '01'), ('7AMJ6KBEJ', '01')), ('!', (200,), (345,))]),\n",
       " (('<', 2, ('7AMJ6KBEJ', '02', 300), None, None), None),\n",
       " (('|', 3, ('AME4BRWJ', '01', 500), 2, ('AME4BRWJ', '10', 500)),\n",
       "  [(' ', ('AME4BRWJ',), ('AME4BRWJ',)),\n",
       "   ('!', ('01',), ('10',)),\n",
       "   (' ', (500,), (500,))]),\n",
       " (('<', 4, ('M27AZ9VW', '01', 1), None, None), None),\n",
       " ((' ', 5, ('M27AZ9VW', '01', 400), 3, ('M27AZ9VW', '01', 400)), None)]"
      ]
     },
     "execution_count": 8,
     "metadata": {},
     "output_type": "execute_result"
    }
   ],
   "source": [
    "diffs3 = [\n",
    "    diff for diff in uxdiff.Differ(cutoff=0.5, fuzzy=0.2).compare(seq1, seq2)\n",
    "    if diff not in [None, True, False]]\n",
    "diffs3"
   ]
  },
  {
   "cell_type": "code",
   "execution_count": 9,
   "metadata": {},
   "outputs": [
    {
     "data": {
      "text/html": [
       "<table>\n",
       "<thead>\n",
       "<tr><th style=\"text-align: right;\">  idx1</th><th>seq1                    </th><th>code  </th><th style=\"text-align: right;\">  idx2</th><th>seq2                    </th><th>detail  </th></tr>\n",
       "</thead>\n",
       "<tbody>\n",
       "<tr><td style=\"text-align: right;\">     0</td><td>('7AMJ6KBEJ', '01', 50) </td><td>|     </td><td style=\"text-align: right;\">     0</td><td>('7AMJ6KBEJ', '01', 150)</td><td><table>\n",
       "<thead>\n",
       "<tr><th>code  </th><th>seq1               </th><th>seq2               </th></tr>\n",
       "</thead>\n",
       "<tbody>\n",
       "<tr><td>      </td><td>('7AMJ6KBEJ', '01')</td><td>('7AMJ6KBEJ', '01')</td></tr>\n",
       "<tr><td>!     </td><td>(50,)              </td><td>(150,)             </td></tr>\n",
       "</tbody>\n",
       "</table>         </td></tr>\n",
       "<tr><td style=\"text-align: right;\">     1</td><td>('7AMJ6KBEJ', '01', 200)</td><td>|     </td><td style=\"text-align: right;\">     1</td><td>('7AMJ6KBEJ', '01', 345)</td><td><table>\n",
       "<thead>\n",
       "<tr><th>code  </th><th>seq1               </th><th>seq2               </th></tr>\n",
       "</thead>\n",
       "<tbody>\n",
       "<tr><td>      </td><td>('7AMJ6KBEJ', '01')</td><td>('7AMJ6KBEJ', '01')</td></tr>\n",
       "<tr><td>!     </td><td>(200,)             </td><td>(345,)             </td></tr>\n",
       "</tbody>\n",
       "</table>         </td></tr>\n",
       "<tr><td style=\"text-align: right;\">     2</td><td>('7AMJ6KBEJ', '02', 300)</td><td><     </td><td style=\"text-align: right;\">      </td><td>                        </td><td>        </td></tr>\n",
       "<tr><td style=\"text-align: right;\">     3</td><td>('AME4BRWJ', '01', 500) </td><td>|     </td><td style=\"text-align: right;\">     2</td><td>('AME4BRWJ', '10', 500) </td><td><table>\n",
       "<thead>\n",
       "<tr><th>code  </th><th>seq1         </th><th>seq2         </th></tr>\n",
       "</thead>\n",
       "<tbody>\n",
       "<tr><td>      </td><td>('AME4BRWJ',)</td><td>('AME4BRWJ',)</td></tr>\n",
       "<tr><td>!     </td><td>('01',)      </td><td>('10',)      </td></tr>\n",
       "<tr><td>      </td><td>(500,)       </td><td>(500,)       </td></tr>\n",
       "</tbody>\n",
       "</table>         </td></tr>\n",
       "<tr><td style=\"text-align: right;\">     4</td><td>('M27AZ9VW', '01', 1)   </td><td><     </td><td style=\"text-align: right;\">      </td><td>                        </td><td>        </td></tr>\n",
       "<tr><td style=\"text-align: right;\">     5</td><td>('M27AZ9VW', '01', 400) </td><td>      </td><td style=\"text-align: right;\">     3</td><td>('M27AZ9VW', '01', 400) </td><td>        </td></tr>\n",
       "</tbody>\n",
       "</table>"
      ],
      "text/plain": [
       "'<table>\\n<thead>\\n<tr><th style=\"text-align: right;\">  idx1</th><th>seq1                    </th><th>code  </th><th style=\"text-align: right;\">  idx2</th><th>seq2                    </th><th>detail  </th></tr>\\n</thead>\\n<tbody>\\n<tr><td style=\"text-align: right;\">     0</td><td>(\\'7AMJ6KBEJ\\', \\'01\\', 50) </td><td>|     </td><td style=\"text-align: right;\">     0</td><td>(\\'7AMJ6KBEJ\\', \\'01\\', 150)</td><td><table>\\n<thead>\\n<tr><th>code  </th><th>seq1               </th><th>seq2               </th></tr>\\n</thead>\\n<tbody>\\n<tr><td>      </td><td>(\\'7AMJ6KBEJ\\', \\'01\\')</td><td>(\\'7AMJ6KBEJ\\', \\'01\\')</td></tr>\\n<tr><td>!     </td><td>(50,)              </td><td>(150,)             </td></tr>\\n</tbody>\\n</table>         </td></tr>\\n<tr><td style=\"text-align: right;\">     1</td><td>(\\'7AMJ6KBEJ\\', \\'01\\', 200)</td><td>|     </td><td style=\"text-align: right;\">     1</td><td>(\\'7AMJ6KBEJ\\', \\'01\\', 345)</td><td><table>\\n<thead>\\n<tr><th>code  </th><th>seq1               </th><th>seq2               </th></tr>\\n</thead>\\n<tbody>\\n<tr><td>      </td><td>(\\'7AMJ6KBEJ\\', \\'01\\')</td><td>(\\'7AMJ6KBEJ\\', \\'01\\')</td></tr>\\n<tr><td>!     </td><td>(200,)             </td><td>(345,)             </td></tr>\\n</tbody>\\n</table>         </td></tr>\\n<tr><td style=\"text-align: right;\">     2</td><td>(\\'7AMJ6KBEJ\\', \\'02\\', 300)</td><td><     </td><td style=\"text-align: right;\">      </td><td>                        </td><td>        </td></tr>\\n<tr><td style=\"text-align: right;\">     3</td><td>(\\'AME4BRWJ\\', \\'01\\', 500) </td><td>|     </td><td style=\"text-align: right;\">     2</td><td>(\\'AME4BRWJ\\', \\'10\\', 500) </td><td><table>\\n<thead>\\n<tr><th>code  </th><th>seq1         </th><th>seq2         </th></tr>\\n</thead>\\n<tbody>\\n<tr><td>      </td><td>(\\'AME4BRWJ\\',)</td><td>(\\'AME4BRWJ\\',)</td></tr>\\n<tr><td>!     </td><td>(\\'01\\',)      </td><td>(\\'10\\',)      </td></tr>\\n<tr><td>      </td><td>(500,)       </td><td>(500,)       </td></tr>\\n</tbody>\\n</table>         </td></tr>\\n<tr><td style=\"text-align: right;\">     4</td><td>(\\'M27AZ9VW\\', \\'01\\', 1)   </td><td><     </td><td style=\"text-align: right;\">      </td><td>                        </td><td>        </td></tr>\\n<tr><td style=\"text-align: right;\">     5</td><td>(\\'M27AZ9VW\\', \\'01\\', 400) </td><td>      </td><td style=\"text-align: right;\">     3</td><td>(\\'M27AZ9VW\\', \\'01\\', 400) </td><td>        </td></tr>\\n</tbody>\\n</table>'"
      ]
     },
     "execution_count": 9,
     "metadata": {},
     "output_type": "execute_result"
    }
   ],
   "source": [
    "tableview(diffs3)"
   ]
  },
  {
   "cell_type": "markdown",
   "metadata": {},
   "source": [
    "detail code meaning\n",
    "\n",
    "| Code | Meaning |\n",
    "| --- | --- |\n",
    "| `-` | unique to sequence 1 |\n",
    "| `+` | unique to sequence 2 |\n",
    "| ` ` | common to both sequences |\n",
    "| `!` | different for both sequences |"
   ]
  },
  {
   "cell_type": "code",
   "execution_count": 10,
   "metadata": {},
   "outputs": [
    {
     "data": {
      "text/html": [
       "<table>\n",
       "<thead>\n",
       "<tr><th style=\"text-align: right;\">  idx1</th><th>seq1  </th><th>code  </th><th style=\"text-align: right;\">  idx2</th><th>seq2   </th><th>detail  </th></tr>\n",
       "</thead>\n",
       "<tbody>\n",
       "<tr><td style=\"text-align: right;\">     0</td><td>bacon </td><td><     </td><td style=\"text-align: right;\">      </td><td>       </td><td>        </td></tr>\n",
       "<tr><td style=\"text-align: right;\">      </td><td>      </td><td>>     </td><td style=\"text-align: right;\">     0</td><td>python </td><td>        </td></tr>\n",
       "<tr><td style=\"text-align: right;\">     1</td><td>eggs  </td><td>|     </td><td style=\"text-align: right;\">     1</td><td>eggy   </td><td><table>\n",
       "<thead>\n",
       "<tr><th>code  </th><th>seq1  </th><th>seq2  </th></tr>\n",
       "</thead>\n",
       "<tbody>\n",
       "<tr><td>      </td><td>egg   </td><td>egg   </td></tr>\n",
       "<tr><td>!     </td><td>s     </td><td>y     </td></tr>\n",
       "</tbody>\n",
       "</table>         </td></tr>\n",
       "<tr><td style=\"text-align: right;\">     2</td><td>ham   </td><td><     </td><td style=\"text-align: right;\">      </td><td>       </td><td>        </td></tr>\n",
       "<tr><td style=\"text-align: right;\">      </td><td>      </td><td>>     </td><td style=\"text-align: right;\">     2</td><td>hamster</td><td>        </td></tr>\n",
       "<tr><td style=\"text-align: right;\">     3</td><td>guido </td><td>      </td><td style=\"text-align: right;\">     3</td><td>guido  </td><td>        </td></tr>\n",
       "<tr><td style=\"text-align: right;\">      </td><td>      </td><td>>     </td><td style=\"text-align: right;\">     4</td><td>van    </td><td>        </td></tr>\n",
       "</tbody>\n",
       "</table>"
      ],
      "text/plain": [
       "'<table>\\n<thead>\\n<tr><th style=\"text-align: right;\">  idx1</th><th>seq1  </th><th>code  </th><th style=\"text-align: right;\">  idx2</th><th>seq2   </th><th>detail  </th></tr>\\n</thead>\\n<tbody>\\n<tr><td style=\"text-align: right;\">     0</td><td>bacon </td><td><     </td><td style=\"text-align: right;\">      </td><td>       </td><td>        </td></tr>\\n<tr><td style=\"text-align: right;\">      </td><td>      </td><td>>     </td><td style=\"text-align: right;\">     0</td><td>python </td><td>        </td></tr>\\n<tr><td style=\"text-align: right;\">     1</td><td>eggs  </td><td>|     </td><td style=\"text-align: right;\">     1</td><td>eggy   </td><td><table>\\n<thead>\\n<tr><th>code  </th><th>seq1  </th><th>seq2  </th></tr>\\n</thead>\\n<tbody>\\n<tr><td>      </td><td>egg   </td><td>egg   </td></tr>\\n<tr><td>!     </td><td>s     </td><td>y     </td></tr>\\n</tbody>\\n</table>         </td></tr>\\n<tr><td style=\"text-align: right;\">     2</td><td>ham   </td><td><     </td><td style=\"text-align: right;\">      </td><td>       </td><td>        </td></tr>\\n<tr><td style=\"text-align: right;\">      </td><td>      </td><td>>     </td><td style=\"text-align: right;\">     2</td><td>hamster</td><td>        </td></tr>\\n<tr><td style=\"text-align: right;\">     3</td><td>guido </td><td>      </td><td style=\"text-align: right;\">     3</td><td>guido  </td><td>        </td></tr>\\n<tr><td style=\"text-align: right;\">      </td><td>      </td><td>>     </td><td style=\"text-align: right;\">     4</td><td>van    </td><td>        </td></tr>\\n</tbody>\\n</table>'"
      ]
     },
     "execution_count": 10,
     "metadata": {},
     "output_type": "execute_result"
    }
   ],
   "source": [
    "tableview([\n",
    "    diff for diff in uxdiff.Differ(cutoff=0.7).compare(\n",
    "        [\"bacon\", \"eggs\", \"ham\", \"guido\"],\n",
    "        [\"python\", \"eggy\", \"hamster\", \"guido\", \"van\"]\n",
    "    )\n",
    "    if diff not in [None, True, False]]\n",
    ")"
   ]
  }
 ],
 "metadata": {
  "kernelspec": {
   "display_name": "Python 3",
   "language": "python",
   "name": "python3"
  },
  "language_info": {
   "codemirror_mode": {
    "name": "ipython",
    "version": 3
   },
   "file_extension": ".py",
   "mimetype": "text/x-python",
   "name": "python",
   "nbconvert_exporter": "python",
   "pygments_lexer": "ipython3",
   "version": "3.7.4"
  }
 },
 "nbformat": 4,
 "nbformat_minor": 4
}
