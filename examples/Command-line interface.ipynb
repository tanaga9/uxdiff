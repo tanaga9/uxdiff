{
 "cells": [
  {
   "cell_type": "code",
   "execution_count": 1,
   "metadata": {},
   "outputs": [],
   "source": [
    "import sys\n",
    "! {sys.executable} -m pip install -q git+https://github.com/tanaga9/uxdiff"
   ]
  },
  {
   "cell_type": "code",
   "execution_count": 2,
   "metadata": {},
   "outputs": [
    {
     "name": "stdout",
     "output_type": "stream",
     "text": [
      "--- text1.txt (utf-8)\r\n",
      "+++ text2.txt (utf-8)\r\n",
      "     1      1|     1. Beautiful is better than ugly.\r\n",
      "\u001b[31;1m     2\u001b[0m       | \u001b[31;1m-\u001b[0m \u001b[31;1m  2. Explicit is better than implicit.\u001b[0m\r\n",
      "\u001b[31;1m     3\u001b[0m       | \u001b[31;1m-\u001b[0m   3. Simple is better than complex.\r\n",
      "\u001b[31;1m     4\u001b[0m       | \u001b[31;1m-\u001b[0m   4. Comple\u001b[31;1mx\u001b[0m is better than compl\u001b[31;1micat\u001b[0me\u001b[31;1md\u001b[0m.\r\n",
      "       \u001b[32;1m     2\u001b[0m| \u001b[32;1m+\u001b[0m   3.\u001b[32;1m  \u001b[0m Simple is better than complex.\r\n",
      "       \u001b[32;1m     3\u001b[0m| \u001b[32;1m+\u001b[0m   4. Compl\u001b[32;1micat\u001b[0me\u001b[32;1md\u001b[0m is better than comple\u001b[32;1mx\u001b[0m.\r\n",
      "       \u001b[32;1m     4\u001b[0m| \u001b[32;1m+\u001b[0m \u001b[32;1m  5. Flat is better than nested.\u001b[0m\r\n",
      "\r\n"
     ]
    }
   ],
   "source": [
    "! uxdiff text1.txt text2.txt"
   ]
  },
  {
   "cell_type": "markdown",
   "metadata": {},
   "source": [
    "Side-by-side output, it does not look good unless it is a monospaced font."
   ]
  },
  {
   "cell_type": "code",
   "execution_count": 3,
   "metadata": {},
   "outputs": [
    {
     "name": "stdout",
     "output_type": "stream",
     "text": [
      "--- text1.txt (utf-8)\r\n",
      "+++ text2.txt (utf-8)\r\n",
      "     1|  1. Beautiful is better than ugly.              1|  1. Beautiful is better than ugly.\r\n",
      "     2|\u001b[31;1m  2. Explicit is better than implicit.\u001b[0m    <       |\r\n",
      "     3|  3. Simple is better than complex.       |      2|  3.\u001b[32;1m  \u001b[0m Simple is better than complex.\r\n",
      "     4|  4. Comple\u001b[31;1mx\u001b[0m is better than compl\u001b[31;1micat\u001b[0me\u001b[31;1md\u001b[0m.  |      3|  4. Compl\u001b[32;1micat\u001b[0me\u001b[32;1md\u001b[0m is better than comple\u001b[32;1mx\u001b[0m.\r\n",
      "      |                                          >      4|\u001b[32;1m  5. Flat is better than nested.\u001b[0m\r\n",
      "\r\n"
     ]
    }
   ],
   "source": [
    "! uxdiff -s -w 100 text1.txt text2.txt"
   ]
  },
  {
   "cell_type": "code",
   "execution_count": 4,
   "metadata": {},
   "outputs": [
    {
     "name": "stdout",
     "output_type": "stream",
     "text": [
      "--- text1.txt\r\n",
      "+++ text2.txt\r\n",
      "     1      1|     1. Beautiful is better than ugly.\r\n",
      "\u001b[31;1m     2\u001b[0m       | \u001b[31;1m-\u001b[0m \u001b[31;1m  2. Explicit is better than implicit.\u001b[0m\r\n",
      "\u001b[31;1m     3\u001b[0m       | \u001b[31;1m-\u001b[0m   3. Simple is better than complex.\r\n",
      "\u001b[31;1m     4\u001b[0m       | \u001b[31;1m-\u001b[0m   4. Comple\u001b[31;1mx\u001b[0m is better than compl\u001b[31;1micat\u001b[0me\u001b[31;1md\u001b[0m.\r\n",
      "       \u001b[32;1m     2\u001b[0m| \u001b[32;1m+\u001b[0m   3.\u001b[32;1m  \u001b[0m Simple is better than complex.\r\n",
      "       \u001b[32;1m     3\u001b[0m| \u001b[32;1m+\u001b[0m   4. Compl\u001b[32;1micat\u001b[0me\u001b[32;1md\u001b[0m is better than comple\u001b[32;1mx\u001b[0m.\r\n",
      "       \u001b[32;1m     4\u001b[0m| \u001b[32;1m+\u001b[0m \u001b[32;1m  5. Flat is better than nested.\u001b[0m\r\n",
      "\r\n"
     ]
    }
   ],
   "source": [
    "! diff -u text1.txt text2.txt | uxdiff"
   ]
  },
  {
   "cell_type": "code",
   "execution_count": 5,
   "metadata": {},
   "outputs": [
    {
     "name": "stdout",
     "output_type": "stream",
     "text": [
      "usage: uxdiff [-h] [--version] [-y] [-f] [-c NUM] [-w WIDTH] [-r]\r\n",
      "              [--linejunk LINEJUNK] [--charjunk CHARJUNK] [--cutoff RATIO]\r\n",
      "              [--fuzzy RATIO] [--cutoffchar] [--enc-file1 ENCODING]\r\n",
      "              [--enc-file2 ENCODING] [--enc-stdin ENCODING]\r\n",
      "              [--enc-stdout ENCODING] [--enc-filepath ENCODING]\r\n",
      "              [--ignore-crlf] [--color [WHEN]] [--no-color] [--withbg]\r\n",
      "              [file_or_dir_1] [file_or_dir_2]\r\n",
      "\r\n",
      "positional arguments:\r\n",
      "  file_or_dir_1         file or dir 1\r\n",
      "  file_or_dir_2         file or dir 2\r\n",
      "\r\n",
      "optional arguments:\r\n",
      "  -h, --help            show this help message and exit\r\n",
      "  --version             show program's version number and exit\r\n",
      "  -y, -s, --side-by-side\r\n",
      "                        output in two columns\r\n",
      "  -f, --full            Fulltext diff (default False) (disable context option)\r\n",
      "  -c NUM, --context NUM\r\n",
      "                        Set number of context lines (default 5)\r\n",
      "  -w WIDTH, --width WIDTH\r\n",
      "                        Set number of width (default auto(or 130))\r\n",
      "  -r, --recursive       Recursively compare any subdirectories found. (default\r\n",
      "                        False) (enable only compare directories)\r\n",
      "  --linejunk LINEJUNK   linejunk\r\n",
      "  --charjunk CHARJUNK   charjunk\r\n",
      "  --cutoff RATIO        Set number of cutoff ratio (default 0.75)\r\n",
      "                        (0.0<=ratio<=1.0)\r\n",
      "  --fuzzy RATIO         Set number of fuzzy matching ratio (default 0.0)\r\n",
      "                        (0.0<=ratio<=1.0)\r\n",
      "  --cutoffchar          Cutoff character in line diffs (default False)\r\n",
      "  --enc-file1 ENCODING  Set encoding of leftside inputfile1 (default utf-8)\r\n",
      "  --enc-file2 ENCODING  Set encoding of rightside inputfile2 (default utf-8)\r\n",
      "  --enc-stdin ENCODING  Set encoding of standard input (default\r\n",
      "                        `defaultencoding`)\r\n",
      "  --enc-stdout ENCODING\r\n",
      "                        Set encoding of standard output (default\r\n",
      "                        `defaultencoding`)\r\n",
      "  --enc-filepath ENCODING\r\n",
      "                        Set encoding of filepath (default `defaultencoding`)\r\n",
      "  --ignore-crlf         Ignore carriage return ('\\r') and line feed ('\\n')\r\n",
      "                        (default False)\r\n",
      "  --color [WHEN]        Show colored diff. --color is the same as\r\n",
      "                        --color=always. WHEN can be one of always, never, or\r\n",
      "                        auto. (default auto)\r\n",
      "  --no-color            Turn off colored diff. override color option if both.\r\n",
      "                        (default False)\r\n",
      "  --withbg              Colored diff with background color. It will be ignored\r\n",
      "                        if no-color option. (default False)\r\n"
     ]
    }
   ],
   "source": [
    "! uxdiff --help"
   ]
  },
  {
   "cell_type": "code",
   "execution_count": null,
   "metadata": {},
   "outputs": [],
   "source": []
  },
  {
   "cell_type": "code",
   "execution_count": 6,
   "metadata": {},
   "outputs": [
    {
     "name": "stdout",
     "output_type": "stream",
     "text": [
      "--- text1.txt (utf-8)\r\n",
      "+++ text2.txt (utf-8)\r\n",
      "     1      1|     1. Beautiful is better than ugly.\r\n",
      "     2       | -   2. Explicit is better than implicit.\r\n",
      "     3       | -   3. Simple is better than complex.\r\n",
      "     4       | -   4. Complex is better than complicated.\r\n",
      "            2| +   3.   Simple is better than complex.\r\n",
      "            3| +   4. Complicated is better than complex.\r\n",
      "            4| +   5. Flat is better than nested.\r\n",
      "\r\n",
      "[     ]      |    ++                                \r\n",
      "[ <-  ]     3|  3.   Simple is better than complex. \r\n",
      "[  -> ]     2|  3.   Simple is better than complex. \r\n",
      "\r\n",
      "[     ]      |          ++++ !                     ---- !  \r\n",
      "[ <-  ]     4|  4. Compl    ex is better than complicated. \r\n",
      "[  -> ]     3|  4. Complicated is better than compl    ex. \r\n",
      "\r\n"
     ]
    }
   ],
   "source": [
    "! uxdiff text1.txt text2.txt > result.txt && cat result.txt"
   ]
  },
  {
   "cell_type": "code",
   "execution_count": 17,
   "metadata": {},
   "outputs": [
    {
     "name": "stdout",
     "output_type": "stream",
     "text": [
      "dira/                                    dirb/\r\n",
      "`-+ \u001b[31;1m1/\u001b[0m                                 < |   \r\n",
      "                                       > `-+ \u001b[32;1m2/\u001b[0m\r\n",
      "\r\n"
     ]
    }
   ],
   "source": [
    "! mkdir -p dira dirb dira/txt dirb/txt && cp text1.txt dira/txt && cp text2.txt dirb/txt && uxdiff -r dira dirb"
   ]
  },
  {
   "cell_type": "code",
   "execution_count": null,
   "metadata": {},
   "outputs": [],
   "source": []
  }
 ],
 "metadata": {
  "kernelspec": {
   "display_name": "Python 3",
   "language": "python",
   "name": "python3"
  },
  "language_info": {
   "codemirror_mode": {
    "name": "ipython",
    "version": 3
   },
   "file_extension": ".py",
   "mimetype": "text/x-python",
   "name": "python",
   "nbconvert_exporter": "python",
   "pygments_lexer": "ipython3",
   "version": "3.7.4"
  }
 },
 "nbformat": 4,
 "nbformat_minor": 4
}
